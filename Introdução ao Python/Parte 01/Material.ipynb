{
  "nbformat": 4,
  "nbformat_minor": 5,
  "metadata": {
    "kernelspec": {
      "name": "python3",
      "display_name": "Python 3.9.5 64-bit"
    },
    "language_info": {
      "codemirror_mode": {
        "name": "ipython",
        "version": 3
      },
      "file_extension": ".py",
      "mimetype": "text/x-python",
      "name": "python",
      "nbconvert_exporter": "python",
      "pygments_lexer": "ipython3",
      "version": "3.9.5"
    },
    "colab": {
      "provenance": []
    },
    "interpreter": {
      "hash": "916dbcbb3f70747c44a77c7bcd40155683ae19c65e1c03b4aa3499c5328201f1"
    }
  },

    {
      "cell_type": "markdown",
      "source": [
        "# 💻 MÓDULO 01 | INTRO: LINGUAGEM DE PROGRAMAÇÃO PYTHON | PARTE 01\n",
        "---  \n",
        "\n",
        "> *Este material foi revisado e estruturado didaticamente para a capacitação Jornada RPA da DB Assessoria em Sistemas de Informação.\n",
        "O objetivo geral é guiar a introdução na (ou revisão da) Linguagem de Programação Python para que possamos seguir compreender exemplos e construir práticas de automação robótica de processos.*\n",
        ">\n",
        "&nbsp;\n",
        "\n",
        "&nbsp;&nbsp;&nbsp;&nbsp;&nbsp;&nbsp;**Este é a PARTE 01 que irá cobrir os seguintes conteúdos:**\n",
        "\n",
        "- INTRODUÇÃO: características da Linguagem de Programação Python,  o uso de identação, a construção de comentários e as boas práticas de estilização;\n",
        "\n",
        "- FUNDAMENTOS DA LINGUAGEM: tipos de dados, atribuição de valores, entrada e saída de dados, operadores aritméticos, relacionais e lógicos, estruturas condicionais e de repetição;\n",
        "\n",
        "- ESTRUTURA DE DADOS: manipulação de strings, coleções de dados em formato de listas, coleções de dados em formato de dicionários, interação com arquivos;\n"
      ],
      "metadata": {
        "id": "incMEzozpiMc"
      },
      "id": "incMEzozpiMc"
    },
    {
      "cell_type": "markdown",
      "source": [
        "## 📢&nbsp;&nbsp;INTRODUÇÃO\n",
        "\n",
        "---\n",
        "\n"
      ],
      "metadata": {
        "id": "eBAtf-BGZyRs"
      },
      "id": "eBAtf-BGZyRs"
    },
    {
      "cell_type": "markdown",
      "source": [
        "### A linguagem Python"
      ],
      "metadata": {
        "id": "oUqyqLEqYKxH"
      },
      "id": "oUqyqLEqYKxH"
    },
    {
      "cell_type": "markdown",
      "source": [
        "A Linguagem de Programação Python foi criada em 1991 pelo matemático holandês Guido Van Rossum. Trata-se uma linguagem multiparadignma, ou seja, suporta tanto o paradigma orientado a objetos, quanto procedural e funcional. É uma das linguagens mais populares atualmente segundo o [IEEE Spectrum](https://spectrum.ieee.org/top-programming-languages-2022) e o [ranking da TIOBE](https://www.tiobe.com/tiobe-index/), aparecendo em primeiro lugar.\n",
        "\n",
        "É considerada uma linguagem que proporciona boa curva de aprendizagem, além de ser bastante flexível. Possui um grande número de bibliotecas, tanto de propósito geral, quanto para áreas específicas. É amplamente utilizada na área de Ciência de Dados, além de processos de automação, desenvolvimento web e computação gráfica."
      ],
      "metadata": {
        "id": "fpViZZy_agNh"
      },
      "id": "fpViZZy_agNh"
    },
    {
      "cell_type": "markdown",
      "source": [],
      "metadata": {
        "id": "ed98ACixjHFu"
      },
      "id": "ed98ACixjHFu"
    },
    {
      "cell_type": "markdown",
      "source": [
        "### Boas práticas de estilização"
      ],
      "metadata": {
        "id": "BV3zA_iFYa5T"
      },
      "id": "BV3zA_iFYa5T"
    },
    {
      "cell_type": "markdown",
      "source": [
        "PEP 8 ([Python Enhancement Proposals](https://peps.python.org/pep-0008/)) é um conjunto de convenções e práticas para a linguagem de código Python, essas práticas tem uso difundido na comunidade Python e facilitam a compreensão e edição do seu código.\n",
        "\n",
        "**Funções e variáveis**: para nomear funções e variáveis a recomendação do guia de estilos é a utilização de nomes em minúsculo com a separação de palavras usando underscore (_), o chamado snake case.\n",
        "\n",
        "**Identação**: é uma linguagem que tem como base estrutural a identação. Por isso, ainda mais que outras linguagens, o uso correto da identação é fundamental. Pode-se escolher entre usar tabs ou espaços, mas não se deve misturar os dois!\n",
        "\n",
        "**Espaçamento entre linhas**: utilização de um linha em branco para separar blocos de instruções.\n",
        "\n",
        "**Importações**: quando houver a necessidade de importar vários elementos, deve-se utilizar um import por linha.\n",
        "\n",
        "**Espaços entre expressões e instruções**: deve-se evitar o excesso de espacos em Python.\n",
        "\n",
        "**Comentários**: uma nota que você não quer que seja interpretada como código pelo Python - começa com um sinal de #. Esse recurso é utilizado para que você e outros colaboradores entendam o que está acontecendo naquele ponto do seu código e o porquê de estar acontecendo. É recomendável usar esse recurso logo acima da linha de código que você deseja comentar.\n",
        "\n",
        "Para saber mais sobre Guia de Estilos para Python:\n",
        "\n",
        "[PEP 8 - Guia de Estilo Para Python em Português](https://wiki.python.org.br/GuiaDeEstilo)\n",
        "\n",
        "[Python Iluminado | Sintaxe](https://pythoniluminado.netlify.app/sintaxe)\n",
        "\n",
        "[Python Code Style Guidelines](https://www.cs.swarthmore.edu/~adanner/cs21/python_codestyle.php)"
      ],
      "metadata": {
        "id": "Ufax60GdaM3n"
      },
      "id": "Ufax60GdaM3n"
    },
    {
      "cell_type": "code",
      "source": [
        "# Importações de pacotes\n",
        "import sys\n",
        "import math\n",
        "\n",
        "# Importações de partes de pacotes\n",
        "from math import pi\n",
        "from numpy import arange, array\n",
        "from numpy import (\n",
        "    amax,\n",
        "    amin,\n",
        "    ceil,\n",
        "    floor\n",
        ")\n",
        "\n",
        "# Declaração de variáveis\n",
        "numero = 4\n",
        "numero_impar = 5\n",
        "\n",
        "# Declaração de funções\n",
        "def soma(x, y):\n",
        "    return x + y\n",
        "\n",
        "# Declaração de estruturas de dados\n",
        "saudacao = [\"Bom dia\", \"Boa tarde\", \"Boa noite\"]\n",
        "\n",
        "# Declaração de função\n",
        "def define_saudacao(hora):\n",
        "    if(hora >= 6 and hora <= 12):\n",
        "        op = 0\n",
        "    elif(hora >= 13 and hora <= 18):\n",
        "        op = 1\n",
        "    else:\n",
        "        op = 2\n",
        "    print(saudacao[op])\n",
        "\n",
        "# Chamada de Função\n",
        "define_saudacao(15)"
      ],
      "metadata": {
        "id": "4UllxlOWGK5X",
        "colab": {
          "base_uri": "https://localhost:8080/"
        },
        "outputId": "c76710a3-f435-48b8-8093-973673472309"
      },
      "id": "4UllxlOWGK5X",
      "execution_count": null,
      "outputs": [
        {
          "output_type": "stream",
          "name": "stdout",
          "text": [
            "Boa tarde\n"
          ]
        }
      ]
    },
    {
      "cell_type": "markdown",
      "source": [
        "## ⭐&nbsp;&nbsp;FUNDAMENTOS DA LINGUAGEM\n",
        "\n",
        "---"
      ],
      "metadata": {
        "id": "qUu8iJDdaqRV"
      },
      "id": "qUu8iJDdaqRV"
    },
    {
      "cell_type": "markdown",
      "source": [
        "### Tipos de dados"
      ],
      "metadata": {
        "id": "6ca6b073"
      },
      "id": "6ca6b073"
    },
    {
      "cell_type": "markdown",
      "source": [
        "Python é uma linguagem *tipada dinamicamente*, ou seja, não é necessário declarar uma variável e definir o tipo de seu dado. O tipo de dado será definido em tempo de execução de acordo com o valor atribuído para aquela variável.\n",
        "\n",
        "A linguagem apresenta os tipos comuns de dados apresentados na tabela a seguir:\n",
        "\n",
        "|Python | O que significa\n",
        "|:---:|:---|\n",
        "| int| Valores inteiros: …, -2, -1, 0, 1, 2, 3 |\n",
        "| float     | Valores com ponto flutuante: 1.3, 2.3872 |  \n",
        "| string    | Textos: python considera texto tudo que estiver entre aspas (simples ou duplas)        |\n",
        "| bool     | Valores booleanos: True, False |\n",
        "\n",
        "Pode-se usar a função embutida [`type()`](https://docs.python.org/pt-br/3/library/functions.html#type) para verificar o tipo de dado de um valor qualquer. Rode a célula abaixo para visualizar um exemplo:"
      ],
      "metadata": {
        "id": "6ZctuvfbSJ5v"
      },
      "id": "6ZctuvfbSJ5v"
    },
    {
      "cell_type": "code",
      "execution_count": null,
      "source": [
        "type(\"45\")"
      ],
      "outputs": [
        {
          "output_type": "execute_result",
          "data": {
            "text/plain": [
              "int"
            ]
          },
          "metadata": {},
          "execution_count": 9
        }
      ],
      "metadata": {
        "id": "af15c560",
        "outputId": "5dbe05ef-ead3-4f65-af93-2bcf7dc5ef6a",
        "colab": {
          "base_uri": "https://localhost:8080/"
        }
      },
      "id": "af15c560"
    },
    {
      "cell_type": "markdown",
      "source": [
        "### Atribuição de valores"
      ],
      "metadata": {
        "id": "BmCR_H-qFjmK"
      },
      "id": "BmCR_H-qFjmK"
    },
    {
      "cell_type": "markdown",
      "source": [
        "O sinal de igual (`=`) atribui um valor a uma variável. Pense em uma variável simplesmente como algo que pode variar ou cujo valor poder mudar.\n",
        "\n",
        "Por exemplo, podemos declarar `nome = 'Maria'` e, se precisar utilizar este nome no futuro, ao invés de digitá-lo novamente, podemos simplesmente chamar a variável `nome`.\n",
        "\n",
        "Nomes de variáveis podem ser qualquer coisa que nós quiseremos, mas existem algumas regras e convenções para serem seguidas:\n",
        "\n",
        "- Eles devem começar apenas com letras ou traço baixo (underscore: `_`) e podem conter letras, *underscore* e números;\n",
        "- Os nomes são `case sensitives`. Ou seja, `Ano` é diferente de `ano`. Em geral, em Python, usamos os nomes das variáveis todos em minúsculas e com underscore para separar palavras quando necessário.\n",
        "- Use nomes de variáveis que sejam descritivos e sigam estas convenções do mundo Python. Por exemplo, é melhor usar `ano_nascimento` do que `AnoNascimento` ou `AnNasc`.\n",
        "\n",
        "Para saber mais sobre o assunto, você pode conferir este texto do [site The Hello World Program](https://thehelloworldprogram.com/python/python-variable-assignment-statements-rules-conventions-naming/) ou [esta explicação do Digital Ocean](https://www.digitalocean.com/community/tutorials/how-to-use-variables-in-python-3)."
      ],
      "metadata": {
        "id": "d6f4ec68"
      },
      "id": "d6f4ec68"
    },
    {
      "cell_type": "code",
      "execution_count": null,
      "source": [
        "meu_nome = \"Maria\""
      ],
      "outputs": [],
      "metadata": {
        "id": "b8cb8f06"
      },
      "id": "b8cb8f06"
    },
    {
      "cell_type": "code",
      "execution_count": null,
      "source": [
        "meu_nome"
      ],
      "outputs": [],
      "metadata": {
        "id": "b85454aa"
      },
      "id": "b85454aa"
    },
    {
      "cell_type": "code",
      "execution_count": null,
      "source": [
        "meu_numero_preferido = 10 + 3"
      ],
      "outputs": [],
      "metadata": {
        "id": "a1f8bfb3"
      },
      "id": "a1f8bfb3"
    },
    {
      "cell_type": "code",
      "execution_count": null,
      "source": [
        "meu_numero_preferido"
      ],
      "outputs": [
        {
          "output_type": "execute_result",
          "data": {
            "text/plain": [
              "13"
            ]
          },
          "metadata": {},
          "execution_count": 5
        }
      ],
      "metadata": {
        "id": "5fde36f0",
        "colab": {
          "base_uri": "https://localhost:8080/"
        },
        "outputId": "fc8f6f38-cd30-437c-f7b4-6a2b1e4f97ff"
      },
      "id": "5fde36f0"
    },
    {
      "cell_type": "markdown",
      "source": [
        "Não é preciso no momento em que declaramos uma variável em Python fazer uma declaração explícita das variáveis,pois isso é definido pelo valor que ela irá armazenar."
      ],
      "metadata": {
        "id": "fdfspfE3i4z6"
      },
      "id": "fdfspfE3i4z6"
    },
    {
      "cell_type": "code",
      "source": [
        "x, y, z = 5, 3.25, \"John\""
      ],
      "metadata": {
        "id": "-JlpcP29i1q1"
      },
      "id": "-JlpcP29i1q1",
      "execution_count": null,
      "outputs": []
    },
    {
      "cell_type": "code",
      "source": [
        "print(x) # 5\n",
        "print(y) # 3.25\n",
        "print(z) # John"
      ],
      "metadata": {
        "colab": {
          "base_uri": "https://localhost:8080/"
        },
        "id": "gkfxK8mwi7-X",
        "outputId": "dbf554b4-3a91-4411-8394-0b14a39740c5"
      },
      "id": "gkfxK8mwi7-X",
      "execution_count": null,
      "outputs": [
        {
          "output_type": "stream",
          "name": "stdout",
          "text": [
            "5\n",
            "3.25\n",
            "John\n"
          ]
        }
      ]
    },
    {
      "cell_type": "markdown",
      "source": [
        "Também é possível fazer operações com variáveis:"
      ],
      "metadata": {
        "id": "8ccb217e"
      },
      "id": "8ccb217e"
    },
    {
      "cell_type": "code",
      "execution_count": null,
      "source": [
        "times_da_nfl = 32\n",
        "times_da_mlb = 30\n",
        "times_da_nba = 30\n",
        "times_da_nhl = 31\n",
        "\n",
        "quantidade_de_times_profissionais = times_da_nfl + times_da_mlb + times_da_nba + times_da_nhl"
      ],
      "outputs": [],
      "metadata": {
        "id": "7a705ddc"
      },
      "id": "7a705ddc"
    },
    {
      "cell_type": "code",
      "execution_count": null,
      "source": [
        "quantidade_de_times_profissionais"
      ],
      "outputs": [
        {
          "output_type": "execute_result",
          "data": {
            "text/plain": [
              "123"
            ]
          },
          "metadata": {},
          "execution_count": 7
        }
      ],
      "metadata": {
        "id": "be48074a",
        "colab": {
          "base_uri": "https://localhost:8080/"
        },
        "outputId": "867e6e36-f49c-43a1-be6c-2f69582eb5e6"
      },
      "id": "be48074a"
    },
    {
      "cell_type": "markdown",
      "source": [
        "### Entrada e saída de dados"
      ],
      "metadata": {
        "id": "f2bd2ec4"
      },
      "id": "f2bd2ec4"
    },
    {
      "cell_type": "markdown",
      "source": [
        "Até então, nós executamos as células deste notebook para pegar o último valor retornado pelo código que escrevemos. Usar a função [`print()`](https://docs.python.org/pt-br/3/library/functions.html#print) é uma forma de imprimir na tela coisas específicas do seu código. Esta é também uma ferramenta bem útil para depuração de código.\n",
        "\n",
        "Para exibir múltiplos elementos na mesma linha, separe-os com uma vírgula."
      ],
      "metadata": {
        "id": "-nUExbJ8MqiT"
      },
      "id": "-nUExbJ8MqiT"
    },
    {
      "cell_type": "code",
      "execution_count": null,
      "source": [
        "print(\"Olá!\")"
      ],
      "outputs": [
        {
          "output_type": "stream",
          "name": "stdout",
          "text": [
            "Olá!\n"
          ]
        }
      ],
      "metadata": {
        "id": "034fd283",
        "colab": {
          "base_uri": "https://localhost:8080/"
        },
        "outputId": "4bd75960-547f-4981-9dd5-e76c60e52bef"
      },
      "id": "034fd283"
    },
    {
      "cell_type": "code",
      "execution_count": null,
      "source": [
        "print(meu_nome)"
      ],
      "outputs": [
        {
          "output_type": "stream",
          "name": "stdout",
          "text": [
            "Maria\n"
          ]
        }
      ],
      "metadata": {
        "id": "c39bc6bb",
        "colab": {
          "base_uri": "https://localhost:8080/"
        },
        "outputId": "64b5212c-d333-4a69-fbf9-e90d62624619"
      },
      "id": "c39bc6bb"
    },
    {
      "cell_type": "code",
      "execution_count": null,
      "source": [
        "print(\"Olá \" + meu_nome)"
      ],
      "outputs": [
        {
          "output_type": "stream",
          "name": "stdout",
          "text": [
            "Olá Maria\n"
          ]
        }
      ],
      "metadata": {
        "id": "af4fd086",
        "colab": {
          "base_uri": "https://localhost:8080/"
        },
        "outputId": "f23ecd1f-3fee-4fde-f5f6-9f5a9ae4dd6e"
      },
      "id": "af4fd086"
    },
    {
      "cell_type": "code",
      "source": [
        "nome = input(\"Digite seu nome: \")"
      ],
      "metadata": {
        "colab": {
          "base_uri": "https://localhost:8080/"
        },
        "id": "jqTqIx5PXDfc",
        "outputId": "07ab3304-c0c4-4b92-a515-e46adb9e4a30"
      },
      "id": "jqTqIx5PXDfc",
      "execution_count": null,
      "outputs": [
        {
          "name": "stdout",
          "output_type": "stream",
          "text": [
            "Digite seu nome: Aline\n"
          ]
        }
      ]
    },
    {
      "cell_type": "code",
      "source": [
        "print(\"O valor digitado foi: \", nome)"
      ],
      "metadata": {
        "id": "efOW9dE-TSs1",
        "colab": {
          "base_uri": "https://localhost:8080/"
        },
        "outputId": "b7d30fc2-d883-4aaf-eea5-155f4494f920"
      },
      "id": "efOW9dE-TSs1",
      "execution_count": null,
      "outputs": [
        {
          "output_type": "stream",
          "name": "stdout",
          "text": [
            "O valor digitado foi:  Aline\n"
          ]
        }
      ]
    },
    {
      "cell_type": "code",
      "source": [
        "print('Dia', 'Mês', 'Ano', sep='/')"
      ],
      "metadata": {
        "id": "ywWvv0HuhRb0"
      },
      "id": "ywWvv0HuhRb0",
      "execution_count": null,
      "outputs": []
    },
    {
      "cell_type": "code",
      "source": [
        "print('As rosas são', end=' -> ')"
      ],
      "metadata": {
        "id": "L-ZW-qmyhROx"
      },
      "id": "L-ZW-qmyhROx",
      "execution_count": null,
      "outputs": []
    },
    {
      "cell_type": "markdown",
      "source": [
        " %[flags][width][.precision]type"
      ],
      "metadata": {
        "id": "7q2k_DUZiFz2"
      },
      "id": "7q2k_DUZiFz2"
    },
    {
      "cell_type": "code",
      "source": [
        "print(\"Geeks : %2d, Portal : %5.2f\" % (1, 05.333))\n",
        "\n",
        "print(\"Total students : %3d, Boys : %2d\" % (240, 120))   # print integer value\n",
        "\n",
        "print(\"%7.3o\" % (25))   # print octal value\n",
        "\n",
        "print(\"%10.3E\" % (356.08977))   # print exponential value\n"
      ],
      "metadata": {
        "colab": {
          "base_uri": "https://localhost:8080/"
        },
        "id": "4IRDv-nxiCac",
        "outputId": "06c0c8f3-c2a5-4ebc-f698-71375626628e"
      },
      "id": "4IRDv-nxiCac",
      "execution_count": null,
      "outputs": [
        {
          "output_type": "stream",
          "name": "stdout",
          "text": [
            "Geeks :  1, Portal :  5.33\n",
            "Total students : 240, Boys : 120\n",
            "    031\n",
            " 3.561E+02\n"
          ]
        }
      ]
    },
    {
      "cell_type": "markdown",
      "source": [
        "### Operadores aritméticos"
      ],
      "metadata": {
        "id": "341b5053"
      },
      "id": "341b5053"
    },
    {
      "cell_type": "markdown",
      "source": [
        "O Python reconhece diversos tipos de dados numéricos. Os dois mais comuns são:\n",
        "\n",
        "integers (números inteiros)\n",
        "```type(12)```\n",
        "\n",
        "floats (números com casas decimais).\n",
        "```type(12.4)```\n",
        "\n",
        "Assim como a função str() converte qualquer valor em string, chamar a função int() em um tipo de dado númerico (mesmo que este esteja no formato string) tentará forçá-lo a ser um inteiro.\n",
        "\n",
        "```int(35.6)```\n",
        "\n",
        "```int('45')```\n",
        "\n",
        "O mesmo acontece quando utilizamos a função float().\n",
        "\n",
        "```float(46)```\n",
        "\n",
        "```float('45')```\n",
        "\n",
        "O Python permite realizar operações matemáticas das mais básicas até as mais avançadas. Vejamos abaixo as quatro operações elementares em ação.\n",
        "\n",
        "|  Operador &nbsp;&nbsp;&nbsp;  |Descrição &nbsp;&nbsp;&nbsp;&nbsp;&nbsp;&nbsp;&nbsp;&nbsp;&nbsp;&nbsp;&nbsp;&nbsp; | Exemplo &nbsp;&nbsp;&nbsp;&nbsp; |  \n",
        "|-----------|-----------|-----------|\n",
        "|&nbsp;&nbsp;&nbsp;&nbsp;&nbsp;&nbsp; + |  Adição | 4+2 |\n",
        "|&nbsp;&nbsp;&nbsp;&nbsp;&nbsp;&nbsp;  - |  Subtração | 10-9 |\n",
        "|&nbsp;&nbsp;&nbsp;&nbsp;&nbsp;&nbsp;  * |  Multiplicação | 5*10 |\n",
        "|&nbsp;&nbsp;&nbsp;&nbsp;&nbsp;&nbsp;  / |  Divisão | 1000/10 |\n",
        "|&nbsp;&nbsp;&nbsp;&nbsp;&nbsp;&nbsp;  ** |  Potenciação | 5**2 |\n",
        "|&nbsp;&nbsp;&nbsp;&nbsp;&nbsp;&nbsp;  % |  Módulo | 10%2 |\n"
      ],
      "metadata": {
        "id": "8UOd9EoBZGRU"
      },
      "id": "8UOd9EoBZGRU"
    },
    {
      "cell_type": "code",
      "source": [
        "b = 125.0\n",
        "c = 390.8\n",
        "\n",
        "print(int(b))\n",
        "print(int(c))\n",
        "\n",
        "f = 57\n",
        "print(float(f))\n",
        "\n",
        "str(f)"
      ],
      "metadata": {
        "colab": {
          "base_uri": "https://localhost:8080/"
        },
        "id": "T6h6xBvbjW-G",
        "outputId": "5326243f-d595-4351-dfa8-b05055deed53"
      },
      "id": "T6h6xBvbjW-G",
      "execution_count": null,
      "outputs": [
        {
          "output_type": "stream",
          "name": "stdout",
          "text": [
            "125\n",
            "390\n",
            "57.0\n"
          ]
        }
      ]
    },
    {
      "cell_type": "markdown",
      "source": [
        "### Operadores relacionais"
      ],
      "metadata": {
        "id": "YI4LC1JSXlCc"
      },
      "id": "YI4LC1JSXlCc"
    },
    {
      "cell_type": "markdown",
      "source": [
        "O símbolo de igual (=) é utilizado para declarar algum valor. Por exemplo. ano = 2021 declara o número 2021 a uma variável (falaremos mais sobre elas em breve) chamada ano. Mas quando utilizamos == é como se estivéssemos fazendo uma pergunta: isto é igual a aquilo?\n",
        "\n",
        "Vejamos um exemplo abaixo. Primeiro, vamos declarar a variável ano, visualizá-la e depois usar o operador lógico ==."
      ],
      "metadata": {
        "id": "1uZiluGNZMnm"
      },
      "id": "1uZiluGNZMnm"
    },
    {
      "cell_type": "code",
      "source": [
        "ano = 2021\n",
        "print(ano == 1900)\n",
        "print(ano == 2021)"
      ],
      "metadata": {
        "id": "TFIMBUGZDP-n",
        "colab": {
          "base_uri": "https://localhost:8080/"
        },
        "outputId": "f4054f9b-e3a4-49e5-d126-9fa7a6af8a0f"
      },
      "id": "TFIMBUGZDP-n",
      "execution_count": null,
      "outputs": [
        {
          "output_type": "stream",
          "name": "stdout",
          "text": [
            "False\n",
            "True\n"
          ]
        }
      ]
    },
    {
      "cell_type": "markdown",
      "source": [
        "Se a célula ano == 1900 fosse executada com apenas um símbolo igual, ao invés de \"perguntar\" se a variável ano é igual 2021, estaríamos sobreescrevendo este número e atribuindo um novo valor (1900) a ela.\n",
        "\n",
        "Lembrando que o Python é uma linguagem case sensitive, ou seja, a mesma palavra pode ser entendida como uma palavra diferente simplesmente porque uma letra está maiuscula ou minúscula."
      ],
      "metadata": {
        "id": "9ADJwjGTDbjI"
      },
      "id": "9ADJwjGTDbjI"
    },
    {
      "cell_type": "code",
      "source": [
        "'Python' == 'python'"
      ],
      "metadata": {
        "id": "TkgjszJ7DkrW"
      },
      "id": "TkgjszJ7DkrW",
      "execution_count": null,
      "outputs": []
    },
    {
      "cell_type": "markdown",
      "source": [
        "Os operadores lógicos do Python são:\n",
        "\n",
        "|Operador|Descrição|\n",
        "|-----------|-----------|\n",
        "| &nbsp;&nbsp;&nbsp;&nbsp;&nbsp; > | &nbsp;&nbsp;&nbsp;maior que |\n",
        "| &nbsp;&nbsp;&nbsp;&nbsp;&nbsp; < | &nbsp;&nbsp;&nbsp;menor que |\n",
        "| &nbsp;&nbsp;&nbsp;&nbsp;&nbsp;>= | &nbsp;&nbsp;&nbsp;maior ou igual a &nbsp;&nbsp; |\n",
        "| &nbsp;&nbsp;&nbsp;&nbsp;&nbsp;<= | &nbsp;&nbsp;&nbsp;menor ou igual a &nbsp;&nbsp; |\n",
        "| &nbsp;&nbsp;&nbsp;&nbsp;&nbsp;== | &nbsp;&nbsp;&nbsp;igual a |\n",
        "| &nbsp;&nbsp;&nbsp;&nbsp;&nbsp;!= | &nbsp;&nbsp;&nbsp;diferente de |\n",
        "\n"
      ],
      "metadata": {
        "id": "sUROxqseDrN8"
      },
      "id": "sUROxqseDrN8"
    },
    {
      "cell_type": "markdown",
      "source": [
        "### Operadores lógicos"
      ],
      "metadata": {
        "id": "99iw_zVnTw6y"
      },
      "id": "99iw_zVnTw6y"
    },
    {
      "cell_type": "markdown",
      "source": [
        "Para facilitar a estruturação das condições, podemos utilizar os operadores booleanos\n",
        "\n",
        "| Operador  | Python | Exemplo  | Descrição  |\n",
        "|---|:---|:---|:---|\n",
        "| E| and|P and Q |Se P e Q forem verdadeiros retorna True, se não retorna False\n",
        "|OU| or|P or Q|Se P ou Q forem verdadeiros retorna True, se não retorna False\n",
        "|Não  | not | not Q |Se Q é verdadeiro retorna False, se não retorna True\n"
      ],
      "metadata": {
        "id": "_nQLTaMDT0MY"
      },
      "id": "_nQLTaMDT0MY"
    },
    {
      "cell_type": "code",
      "source": [
        "a = True\n",
        "b = False\n",
        "c = None\n",
        "\n",
        "# Retorna True, porque o c é None, ou seja, não á valor nenhum atribuído a ele\n",
        "print(\"Condicional NOT: (not c)\")\n",
        "print(not(c))\n",
        "\n",
        "#Retorna True, porque o a é verdadeiro. Para retornar True, uma das opções deve ser verdadeira\n",
        "print(\"Condicional OR: (a or b)\")\n",
        "print(a or b)\n",
        "\n",
        "#Retorna False, porque o a é verdadeiro e o b é False. Para retornar True, ambos devem ser verdadeiros\n",
        "print(\"Condicional AND: (a and b)\")\n",
        "print(a and b)"
      ],
      "metadata": {
        "id": "pe3vu3vgT3W3",
        "colab": {
          "base_uri": "https://localhost:8080/"
        },
        "outputId": "77f3cdc2-b3b6-46d5-a2ed-7bdb8c4bdade"
      },
      "id": "pe3vu3vgT3W3",
      "execution_count": null,
      "outputs": [
        {
          "output_type": "stream",
          "name": "stdout",
          "text": [
            "Condicional NOT: (not c)\n",
            "True\n",
            "Condicional OR: (a or b)\n",
            "True\n",
            "Condicional AND: (a and b)\n",
            "False\n"
          ]
        }
      ]
    },
    {
      "cell_type": "markdown",
      "source": [
        "### Estruturas condicionais\n"
      ],
      "metadata": {
        "id": "6e08b9f3"
      },
      "id": "6e08b9f3"
    },
    {
      "cell_type": "markdown",
      "source": [
        "Podemos usar lógicas condicionais no Python, essas declarações começam com a palavra-chave `if` (em minúsculas), a condição a ser avaliada, seguida de dois pontos, e então uma nova linha de bloco de código indentado para então executar o código, se a condição encontrada for `True` (verdadeira)."
      ],
      "metadata": {
        "id": "IJTXacHSQSdZ"
      },
      "id": "IJTXacHSQSdZ"
    },
    {
      "cell_type": "code",
      "execution_count": null,
      "source": [
        "if(4 < 6):\n",
        "    print(\"4 é menor do que 6\")"
      ],
      "outputs": [
        {
          "output_type": "stream",
          "name": "stdout",
          "text": [
            "4 é menor do que 6\n"
          ]
        }
      ],
      "metadata": {
        "id": "24495580",
        "colab": {
          "base_uri": "https://localhost:8080/"
        },
        "outputId": "d053e905-6c93-4e41-dc0c-a9fd92daa7b1"
      },
      "id": "24495580"
    },
    {
      "cell_type": "markdown",
      "source": [
        "Você também pode adicionar um `else` com um bloco de código indentado caso a condição encontrada for `False` (falsa)."
      ],
      "metadata": {
        "id": "aa41acfb"
      },
      "id": "aa41acfb"
    },
    {
      "cell_type": "code",
      "execution_count": null,
      "source": [
        "if 4 > 6:\n",
        "    print(\"4 é maior do que 6?!\")\n",
        "else:\n",
        "    print(\"4 não é maior do que 6.\")"
      ],
      "outputs": [],
      "metadata": {
        "id": "320f0a96"
      },
      "id": "320f0a96"
    },
    {
      "cell_type": "markdown",
      "source": [
        "Se você precisar, você pode adicionar múltiplas condições com `elif`. Experimente alterar os resultados do placar e executar a célular para ver o código em funcionamento."
      ],
      "metadata": {
        "id": "c5bb999d"
      },
      "id": "c5bb999d"
    },
    {
      "cell_type": "code",
      "execution_count": null,
      "source": [
        "time1 = 6\n",
        "time2 = 8\n",
        "\n",
        "if time1 == time2:\n",
        "    print(\"Time 1 e Time 2 empataram!\")\n",
        "elif time1 < time2:\n",
        "    print('Time 1 ganhou!')\n",
        "else:\n",
        "    print('Time 2 ganhou!')"
      ],
      "outputs": [],
      "metadata": {
        "id": "9df8bffa"
      },
      "id": "9df8bffa"
    },
    {
      "cell_type": "markdown",
      "source": [
        "E a estrutura switch/case? Não existe esta implementação em Python como conhecida em outras linguagens de programação. A versão 3.10 do Python apresenta uma implementação semelhante chamada match/case, a qual veremos mais adiante."
      ],
      "metadata": {
        "id": "hhZV-Q6bkYX1"
      },
      "id": "hhZV-Q6bkYX1"
    },
    {
      "cell_type": "markdown",
      "source": [
        "### Estrutura de repetição\n",
        "\n"
      ],
      "metadata": {
        "id": "3e3902f3"
      },
      "id": "3e3902f3"
    },
    {
      "cell_type": "markdown",
      "source": [
        "Você deve usar um `for` para iterar sobre uma coleção de coisas.\n",
        "\n",
        "Abaixo, nossa declaração começa com a palavra-chave `for` (em minúsculas), e então uma variável chamada `numero`. Você pode chamar essa variável como quiser. Então, insira a palavra-chave `in` e em seguida a coleção que você está percorrendo (ou o nome da sua variável), e então dois pontos. Após isso vamos colocar um bloco indentado de código com instruções sobre o que fazer com cada item na coleção.\n",
        "\n",
        "Digamos que temos uma lista de números chamada `lista_de_numeros`."
      ],
      "metadata": {
        "id": "lDlQwUw4PKSD"
      },
      "id": "lDlQwUw4PKSD"
    },
    {
      "cell_type": "code",
      "execution_count": null,
      "source": [
        "lista_de_numeros = [1, 2, 3, 4, 5, 6]"
      ],
      "outputs": [],
      "metadata": {
        "id": "f31b896b"
      },
      "id": "f31b896b"
    },
    {
      "cell_type": "markdown",
      "source": [
        "É possível percorer os elementos da lista e imprimir cada um deles na tela:"
      ],
      "metadata": {
        "id": "83bac500"
      },
      "id": "83bac500"
    },
    {
      "cell_type": "code",
      "execution_count": null,
      "source": [
        "for numero in lista_de_numeros:\n",
        "    print(numero)"
      ],
      "outputs": [
        {
          "output_type": "stream",
          "name": "stdout",
          "text": [
            "1\n",
            "2\n",
            "3\n",
            "4\n",
            "5\n",
            "6\n"
          ]
        }
      ],
      "metadata": {
        "id": "32066469",
        "colab": {
          "base_uri": "https://localhost:8080/"
        },
        "outputId": "d8123de3-1b64-4125-c1a9-f9fdf7e9cc48"
      },
      "id": "32066469"
    },
    {
      "cell_type": "markdown",
      "source": [
        "Podemos também exibir na tela cada número da lista _multiplicado_ por 6:"
      ],
      "metadata": {
        "id": "8e51a4cb"
      },
      "id": "8e51a4cb"
    },
    {
      "cell_type": "code",
      "execution_count": null,
      "source": [
        "for numero in lista_de_numeros:\n",
        "    print(numero*6)"
      ],
      "outputs": [],
      "metadata": {
        "id": "beacc1fe"
      },
      "id": "beacc1fe"
    },
    {
      "cell_type": "markdown",
      "source": [
        " Observe que a escolha de nome da variável chamada de `numero` na sua repetição é totalmente aleatória. Muitas vezes, você irá ver uma expressão como `for i in alguma_lista`, por exemplo, mas qualquer coisa funcionaria no lugar do `i`. Veja:"
      ],
      "metadata": {
        "id": "9de59d01"
      },
      "id": "9de59d01"
    },
    {
      "cell_type": "code",
      "execution_count": null,
      "source": [
        "for banana in lista_de_numeros:\n",
        "    print(banana)"
      ],
      "outputs": [],
      "metadata": {
        "id": "30739123"
      },
      "id": "30739123"
    },
    {
      "cell_type": "markdown",
      "source": [
        "Pode-se utilizar a estrutura while onde devemos definir um valor de partida e condição de permanência no laço. Para analisar a quantidade de elementos de uma lista podemos usar a função ```len(lista)```.\n",
        "\n",
        "Importante ressaltar que em Python o incremento/decremento deve ser utilizado da seguinte forma: ```i += 1``` ou ```i = i + 1``` uma vez que o ```i++``` **não é interpretado** pela linguagem."
      ],
      "metadata": {
        "id": "3oGpFbULGipV"
      },
      "id": "3oGpFbULGipV"
    },
    {
      "cell_type": "code",
      "source": [
        "i = 0\n",
        "while i < len(lista_de_numeros):\n",
        "  print(lista_de_numeros[i])\n",
        "  i += 1"
      ],
      "metadata": {
        "id": "RQtq4B3VUJSv",
        "colab": {
          "base_uri": "https://localhost:8080/"
        },
        "outputId": "524e9450-d6fd-4136-93ee-e123c595863d"
      },
      "id": "RQtq4B3VUJSv",
      "execution_count": null,
      "outputs": [
        {
          "output_type": "stream",
          "name": "stdout",
          "text": [
            "1\n",
            "2\n",
            "3\n",
            "4\n",
            "5\n",
            "6\n"
          ]
        }
      ]
    },
    {
      "cell_type": "markdown",
      "source": [
        "Também dá pra iterar sobre os elementos de uma string. Vamos percorrer sobre as letras nesta sentença:"
      ],
      "metadata": {
        "id": "15331646"
      },
      "id": "15331646"
    },
    {
      "cell_type": "code",
      "execution_count": null,
      "source": [
        "sentenca = \"Olá, Sexta-Feira\"\n",
        "\n",
        "for letra in sentenca:\n",
        "    print(letra)"
      ],
      "outputs": [
        {
          "output_type": "stream",
          "name": "stdout",
          "text": [
            "O\n",
            "l\n",
            "á\n",
            ",\n",
            " \n",
            "S\n",
            "e\n",
            "x\n",
            "t\n",
            "a\n",
            "-\n",
            "F\n",
            "e\n",
            "i\n",
            "r\n",
            "a\n"
          ]
        }
      ],
      "metadata": {
        "id": "9f1ab92a",
        "colab": {
          "base_uri": "https://localhost:8080/"
        },
        "outputId": "add24bd5-7ee2-47d9-bb68-a770b14a4dc5"
      },
      "id": "9f1ab92a"
    },
    {
      "cell_type": "markdown",
      "source": [
        "E a estrutura do/while? Não existe esta implementação em Python como conhecida em outras linguagens de programação. Entretanto, podemos simular essa ação usando o seguinte estratégia, criando um loop infinito com a indicação de uma quebra ao chegar em alguma condição específica. No exemplo a seguir, o código será executado ao menos uma vez, pedindo pela entrada do usuário."
      ],
      "metadata": {
        "id": "qlzRmc5HlzMh"
      },
      "id": "qlzRmc5HlzMh"
    },
    {
      "cell_type": "code",
      "source": [
        "secret_word = \"python\"\n",
        "counter = 0\n",
        "\n",
        "while True:\n",
        "    word = input(\"Insira a palavra secreta: \").lower()\n",
        "    counter = counter + 1\n",
        "    if word == secret_word:\n",
        "        break\n",
        "    if word != secret_word and counter > 7:\n",
        "        break"
      ],
      "metadata": {
        "colab": {
          "base_uri": "https://localhost:8080/"
        },
        "id": "etVep0LQlyWN",
        "outputId": "06c20546-0f91-4910-e72a-88ff00ede4b6"
      },
      "id": "etVep0LQlyWN",
      "execution_count": null,
      "outputs": [
        {
          "name": "stdout",
          "output_type": "stream",
          "text": [
            "Insira a palavra secreta: hhh\n",
            "Insira a palavra secreta: python\n"
          ]
        }
      ]
    },
    {
      "cell_type": "markdown",
      "source": [
        "## 🎲&nbsp;&nbsp;ESTRUTURAS DE DADOS\n",
        "\n",
        "---"
      ],
      "metadata": {
        "id": "O0NeUWyTz4GQ"
      },
      "id": "O0NeUWyTz4GQ"
    },
    {
      "cell_type": "markdown",
      "source": [
        "###Tipos de Estruturas de Dados\n",
        "\n",
        "No Python é uma das linguagens que melhor consegue lidar com dados de diferentes tipos e naturezas, de forma eficiente e assertiva. Além de possuir um conjunto grande de funcionalidades para manipulação de strings, é capaz de trabalhar com várias estruturas de dados, tais como Listas, Sets, Dicionários e Tuplas.\n",
        "\n"
      ],
      "metadata": {
        "id": "Dw9bScV3kTda"
      },
      "id": "Dw9bScV3kTda"
    },
    {
      "cell_type": "markdown",
      "source": [
        "### Manipulação de Strings\n",
        "\n",
        "\n"
      ],
      "metadata": {
        "id": "ea34572a"
      },
      "id": "ea34572a"
    },
    {
      "cell_type": "markdown",
      "source": [
        "Uma string é um conjunto de caracteres - letras, números, acentos ou o que quer que seja - acompanhado de aspas simples ou duplas, não importando qual, contanto que as aspas de início e fim sejam iguais. O código nesse notebook usa aspas simples. O guia de estilo do Python não recomenda alternar entre aspas, [\"escolha uma e vá com ela até o fim.\"](https://www.python.org/dev/peps/pep-0008/#string-quotes).\n",
        "\n",
        "Rode a célula abaixo para ver um exemplo:"
      ],
      "metadata": {
        "id": "pi6oT35ar9kL"
      },
      "id": "pi6oT35ar9kL"
    },
    {
      "cell_type": "code",
      "execution_count": null,
      "source": [
        "\"Olá Mundo!\""
      ],
      "outputs": [
        {
          "output_type": "execute_result",
          "data": {
            "text/plain": [
              "'Olá Mundo!'"
            ],
            "application/vnd.google.colaboratory.intrinsic+json": {
              "type": "string"
            }
          },
          "metadata": {},
          "execution_count": 47
        }
      ],
      "metadata": {
        "id": "zVj-rkDRBqIg",
        "outputId": "5133cf20-c706-4a05-826f-f64ffe8b3c6d",
        "colab": {
          "base_uri": "https://localhost:8080/",
          "height": 35
        }
      },
      "id": "zVj-rkDRBqIg"
    },
    {
      "cell_type": "code",
      "execution_count": null,
      "source": [
        "\"Python é uma linguagem de programação\""
      ],
      "outputs": [
        {
          "output_type": "execute_result",
          "data": {
            "text/plain": [
              "'Python é uma linguagem de programação'"
            ],
            "application/vnd.google.colaboratory.intrinsic+json": {
              "type": "string"
            }
          },
          "metadata": {},
          "execution_count": 48
        }
      ],
      "metadata": {
        "id": "ymRKW58mCTs5",
        "colab": {
          "base_uri": "https://localhost:8080/",
          "height": 35
        },
        "outputId": "b4f08b90-c6e9-4ba8-edd8-7f19207d78d2"
      },
      "id": "ymRKW58mCTs5"
    },
    {
      "cell_type": "markdown",
      "source": [
        "Se a sua string possuir apostrófos ou citações, você tem duas opções para fazer o sinal. Execute as células para conferir:  \n",
        "\n",
        "1. \"Escapar\" o caractere, colocando uma barra invertida (`\\`) antes dele:"
      ],
      "metadata": {
        "id": "oR5KnsYjBo6L"
      },
      "id": "oR5KnsYjBo6L"
    },
    {
      "cell_type": "code",
      "execution_count": null,
      "source": [
        "'Já tomou um copo d\\'água hoje?'"
      ],
      "outputs": [
        {
          "output_type": "execute_result",
          "data": {
            "text/plain": [
              "\"Já tomou um copo d'água hoje?\""
            ],
            "application/vnd.google.colaboratory.intrinsic+json": {
              "type": "string"
            }
          },
          "metadata": {},
          "execution_count": 30
        }
      ],
      "metadata": {
        "id": "P_nuh4Ao8RMQ",
        "colab": {
          "base_uri": "https://localhost:8080/",
          "height": 35
        },
        "outputId": "7ce0c6b4-29fb-49a5-f091-71b2e69ba9c6"
      },
      "id": "P_nuh4Ao8RMQ"
    },
    {
      "cell_type": "markdown",
      "source": [
        "2.   Mudar as aspas simples para aspas duplas:"
      ],
      "metadata": {
        "id": "ncz8qSCP8q1M"
      },
      "id": "ncz8qSCP8q1M"
    },
    {
      "cell_type": "code",
      "execution_count": null,
      "source": [
        "\"Já tomou um copo d'água hoje?\""
      ],
      "outputs": [],
      "metadata": {
        "id": "a0hBLAQM8wug"
      },
      "id": "a0hBLAQM8wug"
    },
    {
      "cell_type": "markdown",
      "source": [
        "Na prática, as duas alternativas funcionam da mesma forma. Mas a segunda opção é mais recomendada."
      ],
      "metadata": {
        "id": "ZCMtGbNDgO56"
      },
      "id": "ZCMtGbNDgO56"
    },
    {
      "cell_type": "markdown",
      "source": [
        "Quando você chama a funcão `type()` em uma string, o Python irá lhe retornar `str`."
      ],
      "metadata": {
        "id": "NdryWjbA81Ir"
      },
      "id": "NdryWjbA81Ir"
    },
    {
      "cell_type": "code",
      "execution_count": null,
      "source": [
        "type(\"Olá!\")"
      ],
      "outputs": [
        {
          "output_type": "execute_result",
          "data": {
            "text/plain": [
              "str"
            ]
          },
          "metadata": {},
          "execution_count": 52
        }
      ],
      "metadata": {
        "id": "56ebdf96",
        "outputId": "0fc1dcb7-f782-4317-c16c-d64f42399987",
        "colab": {
          "base_uri": "https://localhost:8080/"
        }
      },
      "id": "56ebdf96"
    },
    {
      "cell_type": "markdown",
      "source": [
        "Chamando a [função `str()`](https://docs.python.org/pt-br/3/library/stdtypes.html#str) em um valor qualquer, irá lhe retornar aquele mesmo valor convertido em string. Pode parecer que não muda nada, mas lembre-se que não é possível fazer operações matemáticas como substração, soma ou média com strings. É um erro comum na análise de dados tentar - sem sucesso - realizar operações do tipo em alguma coluna de uma base de dados, pois a variável apesar de ter números é interpretada como uma string."
      ],
      "metadata": {
        "id": "iNIBsmUY-Dn7"
      },
      "id": "iNIBsmUY-Dn7"
    },
    {
      "cell_type": "code",
      "execution_count": null,
      "source": [
        "str(45)\n"
      ],
      "outputs": [
        {
          "output_type": "execute_result",
          "data": {
            "text/plain": [
              "'45'"
            ],
            "application/vnd.google.colaboratory.intrinsic+json": {
              "type": "string"
            }
          },
          "metadata": {},
          "execution_count": 34
        }
      ],
      "metadata": {
        "id": "cbbcd41d",
        "colab": {
          "base_uri": "https://localhost:8080/",
          "height": 35
        },
        "outputId": "f9250d13-ea56-4cfd-8d1a-0988406dee5a"
      },
      "id": "cbbcd41d"
    },
    {
      "cell_type": "markdown",
      "source": [
        "Você pode utilizar uma função dentro de outra função:"
      ],
      "metadata": {
        "id": "FJYOyHQ8_yuT"
      },
      "id": "FJYOyHQ8_yuT"
    },
    {
      "cell_type": "code",
      "execution_count": null,
      "source": [
        "type(str(45))"
      ],
      "outputs": [
        {
          "output_type": "execute_result",
          "data": {
            "text/plain": [
              "str"
            ]
          },
          "metadata": {},
          "execution_count": 35
        }
      ],
      "metadata": {
        "id": "92f686f6",
        "colab": {
          "base_uri": "https://localhost:8080/"
        },
        "outputId": "8fac74bc-85d6-4f25-b298-32f91997cc72"
      },
      "id": "92f686f6"
    },
    {
      "cell_type": "markdown",
      "source": [
        "Também pode passar um valor boleano e a função identificará como string:"
      ],
      "metadata": {
        "id": "DcGISO_o_8DR"
      },
      "id": "DcGISO_o_8DR"
    },
    {
      "cell_type": "code",
      "execution_count": null,
      "source": [
        "str(True)"
      ],
      "outputs": [],
      "metadata": {
        "id": "3d4d3cfd"
      },
      "id": "3d4d3cfd"
    },
    {
      "cell_type": "markdown",
      "source": [
        "Se você \"adicionar\" strings com um sinal de mais `+`, elas serão concatenadas:"
      ],
      "metadata": {
        "id": "fa70968e"
      },
      "id": "fa70968e"
    },
    {
      "cell_type": "code",
      "execution_count": null,
      "source": [
        "\"Sexta\" + \"-\" + \"feira\""
      ],
      "outputs": [
        {
          "output_type": "execute_result",
          "data": {
            "text/plain": [
              "'Sexta-feira'"
            ],
            "application/vnd.google.colaboratory.intrinsic+json": {
              "type": "string"
            }
          },
          "metadata": {},
          "execution_count": 54
        }
      ],
      "metadata": {
        "id": "ca9c4c1d",
        "outputId": "15fb6ac0-228c-424c-fc07-76cc70554ae9",
        "colab": {
          "base_uri": "https://localhost:8080/",
          "height": 35
        }
      },
      "id": "ca9c4c1d"
    },
    {
      "cell_type": "markdown",
      "source": [
        "Agora que você já sabe disso, qual a diferença entre as duas células abaixo? E por que elas produzem resultados diferentes?"
      ],
      "metadata": {
        "id": "apuz8FacgO57"
      },
      "id": "apuz8FacgO57"
    },
    {
      "cell_type": "code",
      "execution_count": null,
      "source": [
        "5+5"
      ],
      "outputs": [
        {
          "output_type": "execute_result",
          "data": {
            "text/plain": [
              "10"
            ]
          },
          "metadata": {},
          "execution_count": 36
        }
      ],
      "metadata": {
        "id": "KLIXSmVggO57",
        "colab": {
          "base_uri": "https://localhost:8080/"
        },
        "outputId": "15bf17b9-b0f0-4e47-b5b9-6ee70eb912d1"
      },
      "id": "KLIXSmVggO57"
    },
    {
      "cell_type": "code",
      "execution_count": null,
      "source": [
        "\"5\"+\"5\""
      ],
      "outputs": [
        {
          "output_type": "execute_result",
          "data": {
            "text/plain": [
              "'55'"
            ],
            "application/vnd.google.colaboratory.intrinsic+json": {
              "type": "string"
            }
          },
          "metadata": {},
          "execution_count": 56
        }
      ],
      "metadata": {
        "id": "VCuYvRSSgO57",
        "outputId": "0e1a60eb-018e-4a7f-97eb-3ffd9924e70e",
        "colab": {
          "base_uri": "https://localhost:8080/",
          "height": 35
        }
      },
      "id": "VCuYvRSSgO57"
    },
    {
      "cell_type": "markdown",
      "source": [
        "Assim como a função `str()` converte qualquer valor em string, chamar a função `int()` em um tipo de dado númerico (mesmo que este esteja no formato string) tentará forçá-lo a ser um inteiro."
      ],
      "metadata": {
        "id": "zLgVTnQWC2HN"
      },
      "id": "zLgVTnQWC2HN"
    },
    {
      "cell_type": "code",
      "execution_count": null,
      "source": [
        "int(35.6)"
      ],
      "outputs": [],
      "metadata": {
        "id": "373c06c3"
      },
      "id": "373c06c3"
    },
    {
      "cell_type": "code",
      "execution_count": null,
      "source": [
        "int(\"45\")"
      ],
      "outputs": [],
      "metadata": {
        "id": "0246bae3"
      },
      "id": "0246bae3"
    },
    {
      "cell_type": "markdown",
      "source": [
        "O mesmo acontece quando utilizamos a função `float()`."
      ],
      "metadata": {
        "id": "A4eqjDqHDRju"
      },
      "id": "A4eqjDqHDRju"
    },
    {
      "cell_type": "code",
      "execution_count": null,
      "source": [
        "float(46)"
      ],
      "outputs": [],
      "metadata": {
        "id": "207484ed"
      },
      "id": "207484ed"
    },
    {
      "cell_type": "code",
      "execution_count": null,
      "source": [
        "float(\"45\")"
      ],
      "outputs": [
        {
          "output_type": "execute_result",
          "data": {
            "text/plain": [
              "45.0"
            ]
          },
          "metadata": {},
          "execution_count": 59
        }
      ],
      "metadata": {
        "id": "eb2e4da7",
        "colab": {
          "base_uri": "https://localhost:8080/"
        },
        "outputId": "7b38f052-bf39-4aa3-901b-5dca441b78dc"
      },
      "id": "eb2e4da7"
    },
    {
      "cell_type": "markdown",
      "source": [
        "Voltando a falar de strings, é importante ressaltar que esses objetos possuem uma série de [métodos](https://docs.python.org/pt-br/3/library/stdtypes.html#string-methods) muito úteis.\n",
        "\n",
        "Vamos usar uma string como exemplo para ilustrar os mais comuns."
      ],
      "metadata": {
        "id": "YmNxdkqJKpYv"
      },
      "id": "YmNxdkqJKpYv"
    },
    {
      "cell_type": "markdown",
      "source": [
        "#### Símbolos\n",
        "\n",
        "O Python possui alguns símbolos que nos auxiliam na manipulação de strings:\n",
        "\n",
        "\n",
        "|Símbolo | Signficado  | Exemplo  | Resultado  |\n",
        "|:---:|:---|:---|:---:|\n",
        "| +      | Concatenação  |  'bolinho de ' + 'chuva '+ 'quero' | ?  |\n",
        "| *      | Repetição     |  'Maria vai com as devs '*4        | ?  |\n",
        "|[]      | Indexação     |  'chuva'[1]                        | ?  |\n",
        "|[:]     | Fatiamento    |  'chuva'[0:1]                      | ?  |\n",
        "|in      | Verificação   |  'chuv' in 'chuvinha'              | ?  |\n",
        "|not in  | Verificação   |  'chuva' not in 'chuvinha'         | ?  |\n",
        "\n",
        "\n",
        "\n",
        "Execute os comandos de exemplo para visualizar os resultados:\n"
      ],
      "metadata": {
        "id": "2firOxEa_a-A"
      },
      "id": "2firOxEa_a-A"
    },
    {
      "cell_type": "code",
      "source": [
        "a = \"Linguagem de Programação\"\n",
        "b = \"Python\""
      ],
      "metadata": {
        "id": "TgnQ-Y_TJBn0"
      },
      "id": "TgnQ-Y_TJBn0",
      "execution_count": null,
      "outputs": []
    },
    {
      "cell_type": "code",
      "source": [
        "# Concatenação de strings\n",
        "a + \" \" + b"
      ],
      "metadata": {
        "colab": {
          "base_uri": "https://localhost:8080/",
          "height": 35
        },
        "id": "p0PbYUpOJq1Q",
        "outputId": "9339ba1e-30cc-4b14-fb64-6f10d0d798e6"
      },
      "id": "p0PbYUpOJq1Q",
      "execution_count": null,
      "outputs": [
        {
          "output_type": "execute_result",
          "data": {
            "text/plain": [
              "'Linguagem de Programação Python'"
            ],
            "application/vnd.google.colaboratory.intrinsic+json": {
              "type": "string"
            }
          },
          "metadata": {},
          "execution_count": 38
        }
      ]
    },
    {
      "cell_type": "code",
      "source": [
        "# Repetição de strings\n",
        "b * 4"
      ],
      "metadata": {
        "colab": {
          "base_uri": "https://localhost:8080/",
          "height": 35
        },
        "id": "5LALyHqSJsW_",
        "outputId": "2cc7e8cd-c257-4377-8f5f-9c000557c7cd"
      },
      "id": "5LALyHqSJsW_",
      "execution_count": null,
      "outputs": [
        {
          "output_type": "execute_result",
          "data": {
            "text/plain": [
              "'PythonPythonPythonPython'"
            ],
            "application/vnd.google.colaboratory.intrinsic+json": {
              "type": "string"
            }
          },
          "metadata": {},
          "execution_count": 41
        }
      ]
    },
    {
      "cell_type": "code",
      "source": [
        "# Strings funcionanam como listas de caracteres\n",
        "# Mostra o caractere que está no índice indicado\n",
        "a[2]"
      ],
      "metadata": {
        "colab": {
          "base_uri": "https://localhost:8080/",
          "height": 35
        },
        "id": "Bo4uuamKJtzE",
        "outputId": "fb0e8aff-64e7-4586-f9d8-8eaccf53bda1"
      },
      "id": "Bo4uuamKJtzE",
      "execution_count": null,
      "outputs": [
        {
          "output_type": "execute_result",
          "data": {
            "text/plain": [
              "'n'"
            ],
            "application/vnd.google.colaboratory.intrinsic+json": {
              "type": "string"
            }
          },
          "metadata": {},
          "execution_count": 42
        }
      ]
    },
    {
      "cell_type": "code",
      "source": [
        "# Retorna um pedaço de uma string indicando índica de partida (incluído) e indíce de parada (não incluído)\n",
        "a[3:6]"
      ],
      "metadata": {
        "colab": {
          "base_uri": "https://localhost:8080/",
          "height": 35
        },
        "id": "to2rAlNjJupe",
        "outputId": "d5ccc6bb-1490-4229-f5f8-37017c79fe38"
      },
      "id": "to2rAlNjJupe",
      "execution_count": null,
      "outputs": [
        {
          "output_type": "execute_result",
          "data": {
            "text/plain": [
              "'gua'"
            ],
            "application/vnd.google.colaboratory.intrinsic+json": {
              "type": "string"
            }
          },
          "metadata": {},
          "execution_count": 43
        }
      ]
    },
    {
      "cell_type": "code",
      "source": [
        "# Verifica se determinado conteúdo está na string (rertorna True ou False)\n",
        "\"th\" in b"
      ],
      "metadata": {
        "colab": {
          "base_uri": "https://localhost:8080/"
        },
        "id": "cHLkDZzSJuiy",
        "outputId": "7e2c97be-b574-4aab-a5f2-d5551296903b"
      },
      "id": "cHLkDZzSJuiy",
      "execution_count": null,
      "outputs": [
        {
          "output_type": "execute_result",
          "data": {
            "text/plain": [
              "True"
            ]
          },
          "metadata": {},
          "execution_count": 46
        }
      ]
    },
    {
      "cell_type": "code",
      "source": [
        "# Verifica se determinado conteúdo não está na string (rertorna True ou False)\n",
        "\"a\" not in b"
      ],
      "metadata": {
        "colab": {
          "base_uri": "https://localhost:8080/"
        },
        "id": "ue355a8fJuZ1",
        "outputId": "2e95f71c-473c-46ab-e66f-31614b9fdd6a"
      },
      "id": "ue355a8fJuZ1",
      "execution_count": null,
      "outputs": [
        {
          "output_type": "execute_result",
          "data": {
            "text/plain": [
              "True"
            ]
          },
          "metadata": {},
          "execution_count": 22
        }
      ]
    },
    {
      "cell_type": "markdown",
      "source": [
        "\n",
        "#### Funções nativas\n",
        "\n",
        "O Python possui algumas funções nativas, chamadas de \"built-ins\" que nos ajudam na manipulação de strings."
      ],
      "metadata": {
        "id": "0T0Q6hYUI2JI"
      },
      "id": "0T0Q6hYUI2JI"
    },
    {
      "cell_type": "code",
      "execution_count": null,
      "source": [
        "frase = \"Linguagem de Programação - Python!\""
      ],
      "outputs": [],
      "metadata": {
        "id": "44dd516a"
      },
      "id": "44dd516a"
    },
    {
      "cell_type": "markdown",
      "source": [
        "A função `count()` irá contar a quantidade de vezes que um caractere ou grupo de caracteres aparece na sua string:"
      ],
      "metadata": {
        "id": "6e4669ea"
      },
      "id": "6e4669ea"
    },
    {
      "cell_type": "code",
      "execution_count": null,
      "source": [
        "frase.count(\"o\")"
      ],
      "outputs": [
        {
          "output_type": "execute_result",
          "data": {
            "text/plain": [
              "3"
            ]
          },
          "metadata": {},
          "execution_count": 48
        }
      ],
      "metadata": {
        "id": "642ed865",
        "colab": {
          "base_uri": "https://localhost:8080/"
        },
        "outputId": "c3265406-1d05-4ba6-ce9a-9126511088f6"
      },
      "id": "642ed865"
    },
    {
      "cell_type": "markdown",
      "source": [
        "A função `index` apresenta o índice da primeira ocorrência do valor passado como parâmetro."
      ],
      "metadata": {
        "id": "E-8h9RdE9xRU"
      },
      "id": "E-8h9RdE9xRU"
    },
    {
      "cell_type": "code",
      "source": [
        "frase.index(\"i\")"
      ],
      "metadata": {
        "id": "3lO_2GHFfzlU",
        "colab": {
          "base_uri": "https://localhost:8080/"
        },
        "outputId": "3b544b6f-4c04-4d3b-d5d3-c107125a0db1"
      },
      "id": "3lO_2GHFfzlU",
      "execution_count": null,
      "outputs": [
        {
          "output_type": "execute_result",
          "data": {
            "text/plain": [
              "1"
            ]
          },
          "metadata": {},
          "execution_count": 49
        }
      ]
    },
    {
      "cell_type": "markdown",
      "source": [
        "Também a função `find()` apresenta a primeira ocorrência do valor do parâmetro e a função `rfind()` indica o índice da última ocorrência."
      ],
      "metadata": {
        "id": "-qjXJhts94Il"
      },
      "id": "-qjXJhts94Il"
    },
    {
      "cell_type": "code",
      "source": [
        "frase.find(\"o\")"
      ],
      "metadata": {
        "colab": {
          "base_uri": "https://localhost:8080/"
        },
        "id": "5cRMq_HqehIG",
        "outputId": "d42f70a3-cef8-413d-ee5a-07355ebcd4a8"
      },
      "id": "5cRMq_HqehIG",
      "execution_count": null,
      "outputs": [
        {
          "output_type": "execute_result",
          "data": {
            "text/plain": [
              "15"
            ]
          },
          "metadata": {},
          "execution_count": 50
        }
      ]
    },
    {
      "cell_type": "code",
      "source": [
        "frase.rfind(\"o\")"
      ],
      "metadata": {
        "colab": {
          "base_uri": "https://localhost:8080/"
        },
        "id": "hBWbrRpugJgn",
        "outputId": "e52f9a51-0b50-43f1-c081-36f6fdee4327"
      },
      "id": "hBWbrRpugJgn",
      "execution_count": null,
      "outputs": [
        {
          "output_type": "execute_result",
          "data": {
            "text/plain": [
              "31"
            ]
          },
          "metadata": {},
          "execution_count": 3
        }
      ]
    },
    {
      "cell_type": "markdown",
      "source": [
        "A função `startswith()` retorna True se o conteúdo passado por parâmetro estiver na string. Já a função `endswith()` faz o mesmo indicando se o valor está ao final da string."
      ],
      "metadata": {
        "id": "GPSHi00j-ZlP"
      },
      "id": "GPSHi00j-ZlP"
    },
    {
      "cell_type": "code",
      "source": [
        "frase.startswith(\"A\")"
      ],
      "metadata": {
        "id": "9nC3zTDCgZ27",
        "colab": {
          "base_uri": "https://localhost:8080/"
        },
        "outputId": "0a3c5f96-f11f-445e-80e6-0ccc91fe8569"
      },
      "id": "9nC3zTDCgZ27",
      "execution_count": null,
      "outputs": [
        {
          "output_type": "execute_result",
          "data": {
            "text/plain": [
              "False"
            ]
          },
          "metadata": {},
          "execution_count": 51
        }
      ]
    },
    {
      "cell_type": "code",
      "source": [
        "frase.endswith(\"!\")"
      ],
      "metadata": {
        "id": "eR7CKo8ygSLT",
        "colab": {
          "base_uri": "https://localhost:8080/"
        },
        "outputId": "53427beb-d16e-4b8e-e44e-8a4b87a1ff09"
      },
      "id": "eR7CKo8ygSLT",
      "execution_count": null,
      "outputs": [
        {
          "output_type": "execute_result",
          "data": {
            "text/plain": [
              "True"
            ]
          },
          "metadata": {},
          "execution_count": 52
        }
      ]
    },
    {
      "cell_type": "markdown",
      "source": [
        "Já a função `replace()` irá substituir um trecho de texto com outro trecho a ser especificado por você:"
      ],
      "metadata": {
        "id": "ad42608d"
      },
      "id": "ad42608d"
    },
    {
      "cell_type": "code",
      "execution_count": null,
      "source": [
        "frase.replace(\"Python\", \"C\")"
      ],
      "outputs": [
        {
          "output_type": "execute_result",
          "data": {
            "text/plain": [
              "'Linguagem de Programação - C!'"
            ],
            "application/vnd.google.colaboratory.intrinsic+json": {
              "type": "string"
            }
          },
          "metadata": {},
          "execution_count": 53
        }
      ],
      "metadata": {
        "id": "914cf5e3",
        "colab": {
          "base_uri": "https://localhost:8080/",
          "height": 35
        },
        "outputId": "a8dacb64-7943-4e64-fc5e-e5c2cfd05563"
      },
      "id": "914cf5e3"
    },
    {
      "cell_type": "markdown",
      "source": [
        "A função `split()` irá fatiar a string e armazená-la em uma [lista](#Listas) (iremos falar mais sobre elas já já) baseado em um delimitador. Caso você não defina um delimitador, o delimitador definido por padrão é um espaço em branco:"
      ],
      "metadata": {
        "id": "dc146a55"
      },
      "id": "dc146a55"
    },
    {
      "cell_type": "code",
      "execution_count": null,
      "source": [
        "frase.split()"
      ],
      "outputs": [
        {
          "output_type": "execute_result",
          "data": {
            "text/plain": [
              "['Linguagem', 'de', 'Programação', '-', 'Python!']"
            ]
          },
          "metadata": {},
          "execution_count": 55
        }
      ],
      "metadata": {
        "id": "8663e077",
        "colab": {
          "base_uri": "https://localhost:8080/"
        },
        "outputId": "0b2fcc7c-a897-45fb-e308-f41b697e6cbc"
      },
      "id": "8663e077"
    },
    {
      "cell_type": "code",
      "execution_count": null,
      "source": [
        "frase.split(\"-\")"
      ],
      "outputs": [
        {
          "output_type": "execute_result",
          "data": {
            "text/plain": [
              "['Linguagem de Programação ', ' Python!']"
            ]
          },
          "metadata": {},
          "execution_count": 56
        }
      ],
      "metadata": {
        "id": "bbacea47",
        "colab": {
          "base_uri": "https://localhost:8080/"
        },
        "outputId": "f4b45c26-529e-4b3e-8e2d-cbe395fe31f3"
      },
      "id": "bbacea47"
    },
    {
      "cell_type": "markdown",
      "source": [
        "A função `partition` faz uma separação em três partes levando em consideração o valor passado por parâmetro, onde a primeira é tudo o que estiver antes do critério utilizado, a segunda parte é o próprio conteúdo usado como critério e a terceira parte é o restante do conteúdo de referência."
      ],
      "metadata": {
        "id": "Hr_rdbZq-vVl"
      },
      "id": "Hr_rdbZq-vVl"
    },
    {
      "cell_type": "code",
      "source": [
        "frase.partition(\"de\")"
      ],
      "metadata": {
        "id": "fllm9W3cifFp",
        "colab": {
          "base_uri": "https://localhost:8080/"
        },
        "outputId": "0fc3f01e-5544-4274-d5be-14ddbeb5cc65"
      },
      "id": "fllm9W3cifFp",
      "execution_count": null,
      "outputs": [
        {
          "output_type": "execute_result",
          "data": {
            "text/plain": [
              "('Linguagem ', 'de', ' Programação - Python!')"
            ]
          },
          "metadata": {},
          "execution_count": 57
        }
      ]
    },
    {
      "cell_type": "markdown",
      "source": [
        "#### Formatação\n",
        "Temos também algumas funções de formatação que ajudam a exibir mais adequadamente strings."
      ],
      "metadata": {
        "id": "zw-QhFoFe-8Q"
      },
      "id": "zw-QhFoFe-8Q"
    },
    {
      "cell_type": "code",
      "source": [
        "frase = \"  Vamos trabalhar com Linguagem Python  **    \""
      ],
      "metadata": {
        "id": "InYEKHM2g9K2"
      },
      "id": "InYEKHM2g9K2",
      "execution_count": null,
      "outputs": []
    },
    {
      "cell_type": "markdown",
      "source": [
        "A função `strip()` remove espaços em branco das extremidade da sua string (mas não os espaços em branco internos):"
      ],
      "metadata": {
        "id": "1f1b0a96"
      },
      "id": "1f1b0a96"
    },
    {
      "cell_type": "code",
      "execution_count": null,
      "source": [
        "frase = frase.strip()\n",
        "print(frase)"
      ],
      "outputs": [
        {
          "output_type": "stream",
          "name": "stdout",
          "text": [
            "Vamos trabalhar com Linguagem Python  **\n"
          ]
        }
      ],
      "metadata": {
        "id": "d4432f08",
        "colab": {
          "base_uri": "https://localhost:8080/"
        },
        "outputId": "419cc703-099b-4003-de55-1f1474af4876"
      },
      "id": "d4432f08"
    },
    {
      "cell_type": "markdown",
      "source": [
        "Podemos usar um ponto após a variável e chamar uma função, que irá operar sobre ela. Veja o exemplo do `upper()`, que deixa todos os caracteres de uma string em caixa alta:"
      ],
      "metadata": {
        "id": "1c2a8a8e"
      },
      "id": "1c2a8a8e"
    },
    {
      "cell_type": "code",
      "execution_count": null,
      "source": [
        "frase.upper()"
      ],
      "outputs": [
        {
          "output_type": "execute_result",
          "data": {
            "text/plain": [
              "'  VAMOS TRABALHAR COM LINGUAGEM PYTHON  **    '"
            ],
            "application/vnd.google.colaboratory.intrinsic+json": {
              "type": "string"
            }
          },
          "metadata": {},
          "execution_count": 69
        }
      ],
      "metadata": {
        "id": "934e513c",
        "colab": {
          "base_uri": "https://localhost:8080/",
          "height": 35
        },
        "outputId": "b1a860dd-cc4a-4ed4-d7c6-2a5f9c86ffaf"
      },
      "id": "934e513c"
    },
    {
      "cell_type": "markdown",
      "source": [
        "Usamos `lower()` converte para minúsculos:"
      ],
      "metadata": {
        "id": "86a4d772"
      },
      "id": "86a4d772"
    },
    {
      "cell_type": "code",
      "execution_count": null,
      "source": [
        "frase.lower()"
      ],
      "outputs": [
        {
          "output_type": "execute_result",
          "data": {
            "text/plain": [
              "'vamos trabalhar com linguagem python  **'"
            ],
            "application/vnd.google.colaboratory.intrinsic+json": {
              "type": "string"
            }
          },
          "metadata": {},
          "execution_count": 62
        }
      ],
      "metadata": {
        "id": "7d1a06f4",
        "colab": {
          "base_uri": "https://localhost:8080/",
          "height": 35
        },
        "outputId": "0e12154f-3324-454b-e6ad-ce04ccc21bea"
      },
      "id": "7d1a06f4"
    },
    {
      "cell_type": "markdown",
      "source": [
        "E também `capitalize()` quando a intenção é que apenas a primeira letra da frase esteja em maiúsculo."
      ],
      "metadata": {
        "id": "WJ2X14iEAHwT"
      },
      "id": "WJ2X14iEAHwT"
    },
    {
      "cell_type": "code",
      "source": [
        "frase.capitalize()"
      ],
      "metadata": {
        "id": "LnT11Gfgd5vU",
        "colab": {
          "base_uri": "https://localhost:8080/",
          "height": 35
        },
        "outputId": "5017d2fa-cd90-4645-b566-7cabb0a823a1"
      },
      "id": "LnT11Gfgd5vU",
      "execution_count": null,
      "outputs": [
        {
          "output_type": "execute_result",
          "data": {
            "text/plain": [
              "'Vamos trabalhar com linguagem python  **'"
            ],
            "application/vnd.google.colaboratory.intrinsic+json": {
              "type": "string"
            }
          },
          "metadata": {},
          "execution_count": 63
        }
      ]
    },
    {
      "cell_type": "markdown",
      "source": [
        "Ainda podemos contar com funções que ajudam na visualização de strings em termos de posicionamento, são elas: `ljust()`, `center()` e `rjust()`."
      ],
      "metadata": {
        "id": "fIrgIhXbAgq-"
      },
      "id": "fIrgIhXbAgq-"
    },
    {
      "cell_type": "code",
      "source": [
        "print(frase.ljust(100))\n",
        "print(frase.center(100))\n",
        "print(frase.rjust(100))"
      ],
      "metadata": {
        "colab": {
          "base_uri": "https://localhost:8080/"
        },
        "id": "nmCO_HuziFo6",
        "outputId": "f98809b9-832e-44a8-bc01-e39fe0ab39ca"
      },
      "id": "nmCO_HuziFo6",
      "execution_count": null,
      "outputs": [
        {
          "output_type": "stream",
          "name": "stdout",
          "text": [
            "Vamos trabalhar com Linguagem Python  **                                                            \n",
            "                              Vamos trabalhar com Linguagem Python  **                              \n",
            "                                                            Vamos trabalhar com Linguagem Python  **\n"
          ]
        }
      ]
    },
    {
      "cell_type": "markdown",
      "source": [
        "Importante chamar atenção para uma possibilidade ótima da Linguagem Python que são os \"encadeamentos de métodos\" que permitem combinar métodos - é só adicioná-los um ao final do outro, com um ponto entre eles. Digamos que nós quiséssemos remover um espaço em branco da nossa string e colocá-la em maiúsculo:"
      ],
      "metadata": {
        "id": "6a712332"
      },
      "id": "6a712332"
    },
    {
      "cell_type": "code",
      "execution_count": null,
      "source": [
        "frase.strip().upper()"
      ],
      "outputs": [
        {
          "output_type": "execute_result",
          "data": {
            "text/plain": [
              "'LINGUAGEM DE PROGRAMAÇÃO - PYTHON!'"
            ],
            "application/vnd.google.colaboratory.intrinsic+json": {
              "type": "string"
            }
          },
          "metadata": {},
          "execution_count": 11
        }
      ],
      "metadata": {
        "id": "19938073",
        "colab": {
          "base_uri": "https://localhost:8080/",
          "height": 36
        },
        "outputId": "a2437409-aeab-4f90-8eb1-93c03fe828b9"
      },
      "id": "19938073"
    },
    {
      "cell_type": "markdown",
      "source": [
        "Perceba que `count()` diferencia entre minúsculas e maiúsculas. Se o que você deseja é contar todas as letras 'o', você deve converter sua string original para maiúscula ou minúscula anteriormente."
      ],
      "metadata": {
        "id": "85a6ec19"
      },
      "id": "85a6ec19"
    },
    {
      "cell_type": "code",
      "execution_count": null,
      "source": [
        "frase.upper().count(\"O\")"
      ],
      "outputs": [
        {
          "output_type": "execute_result",
          "data": {
            "text/plain": [
              "3"
            ]
          },
          "metadata": {},
          "execution_count": 66
        }
      ],
      "metadata": {
        "id": "01bc0e8b",
        "colab": {
          "base_uri": "https://localhost:8080/"
        },
        "outputId": "99a98371-7958-4008-ae62-b11f2447ca08"
      },
      "id": "01bc0e8b"
    },
    {
      "cell_type": "markdown",
      "source": [
        "Veja que nossa string original permanece inalterada:"
      ],
      "metadata": {
        "id": "37046553"
      },
      "id": "37046553"
    },
    {
      "cell_type": "code",
      "execution_count": null,
      "source": [
        "frase"
      ],
      "outputs": [
        {
          "output_type": "execute_result",
          "data": {
            "text/plain": [
              "'  Vamos trabalhar com Linguagem Python  **    '"
            ],
            "application/vnd.google.colaboratory.intrinsic+json": {
              "type": "string"
            }
          },
          "metadata": {},
          "execution_count": 70
        }
      ],
      "metadata": {
        "id": "8a8e9add",
        "colab": {
          "base_uri": "https://localhost:8080/",
          "height": 35
        },
        "outputId": "2c38684d-c8fe-47b6-8eb5-22356217ea42"
      },
      "id": "8a8e9add"
    },
    {
      "cell_type": "markdown",
      "source": [
        "Mas por que isso? É que a gente não atribuiu os resultados dessas operações a nenhuma variável. Uma prática muito comum, especialmente quando estamos limpando dados, é atribuir os resultados a uma nova variável:"
      ],
      "metadata": {
        "id": "fe7ffaba"
      },
      "id": "fe7ffaba"
    },
    {
      "cell_type": "code",
      "execution_count": null,
      "source": [
        "frase_limpa = frase.strip().upper()"
      ],
      "outputs": [],
      "metadata": {
        "id": "ed59b96a"
      },
      "id": "ed59b96a"
    },
    {
      "cell_type": "code",
      "execution_count": null,
      "source": [
        "frase_limpa"
      ],
      "outputs": [
        {
          "output_type": "execute_result",
          "data": {
            "text/plain": [
              "'VAMOS TRABALHAR COM LINGUAGEM PYTHON  **'"
            ],
            "application/vnd.google.colaboratory.intrinsic+json": {
              "type": "string"
            }
          },
          "metadata": {},
          "execution_count": 72
        }
      ],
      "metadata": {
        "id": "58f3f9b5",
        "colab": {
          "base_uri": "https://localhost:8080/",
          "height": 35
        },
        "outputId": "b5da3230-c043-4733-a815-91d54cb8a39b"
      },
      "id": "58f3f9b5"
    },
    {
      "cell_type": "markdown",
      "source": [
        "### Estrutura de Listas\n",
        "\n",
        "Lista é a estrutura de dados mais básica do Python. Armazena os dados em sequência, onde cada elemento possui sua posição específica determinada por um índice. O primeiro elemento é sempre o índice zero e a cada elemento inserido na lista esse valor é incrementado."
      ],
      "metadata": {
        "id": "bff733fa"
      },
      "id": "bff733fa"
    },
    {
      "cell_type": "markdown",
      "source": [
        "Uma _lista_ é um conjunto de itens separados por vírgulas dentro de colchetes: `[]`.\n",
        "\n",
        "Aqui vai uma lista de ingredientes, cada um sendo uma string, que combinados formam a receita de um molho."
      ],
      "metadata": {
        "id": "0feb98c3"
      },
      "id": "0feb98c3"
    },
    {
      "cell_type": "code",
      "execution_count": null,
      "source": [
        "ingredientes_para_o_molho = [\"tomate\", \"cebola\", \"pimenta\", \"limão\", \"coentro\"]"
      ],
      "outputs": [],
      "metadata": {
        "id": "9c3f8761"
      },
      "id": "9c3f8761"
    },
    {
      "cell_type": "markdown",
      "source": [
        "Para acessar um item de uma lista você deve informar sua posição numérica na lista - o seu _índice_ (1, 2, 3, etc.) - dentro de colchetes imediatamente após o nome da variável da lista. Assim como em muitas outras linguagens de programação, em Python a contagem começa em 0. Isso significa que o primeiro item de uma lista é o item `0`."
      ],
      "metadata": {
        "id": "1ec1bb5c"
      },
      "id": "1ec1bb5c"
    },
    {
      "cell_type": "code",
      "execution_count": null,
      "source": [
        "ingredientes_para_o_molho[0]"
      ],
      "outputs": [
        {
          "output_type": "execute_result",
          "data": {
            "text/plain": [
              "'tomate'"
            ],
            "application/vnd.google.colaboratory.intrinsic+json": {
              "type": "string"
            }
          },
          "metadata": {},
          "execution_count": 75
        }
      ],
      "metadata": {
        "id": "ea20bc26",
        "colab": {
          "base_uri": "https://localhost:8080/",
          "height": 35
        },
        "outputId": "39d20f94-a5a6-4e91-f535-1f3de53cdaa6"
      },
      "id": "ea20bc26"
    },
    {
      "cell_type": "code",
      "execution_count": null,
      "source": [
        "ingredientes_para_o_molho[1]"
      ],
      "outputs": [
        {
          "output_type": "execute_result",
          "data": {
            "text/plain": [
              "'cebola'"
            ],
            "application/vnd.google.colaboratory.intrinsic+json": {
              "type": "string"
            }
          },
          "metadata": {},
          "execution_count": 76
        }
      ],
      "metadata": {
        "id": "8c70b25a",
        "colab": {
          "base_uri": "https://localhost:8080/",
          "height": 35
        },
        "outputId": "6c3831bb-e751-4644-92a6-1654b01ee113"
      },
      "id": "8c70b25a"
    },
    {
      "cell_type": "markdown",
      "source": [
        "Você pode usar _índices negativos_ para acessar itens do lado direito da lista - e, na verdade, `[-1]` é um termo comum para acessar \"o último item da lista\"."
      ],
      "metadata": {
        "id": "7094472f"
      },
      "id": "7094472f"
    },
    {
      "cell_type": "code",
      "execution_count": null,
      "source": [
        "ingredientes_para_o_molho[-1]"
      ],
      "outputs": [
        {
          "output_type": "execute_result",
          "data": {
            "text/plain": [
              "'coentro'"
            ],
            "application/vnd.google.colaboratory.intrinsic+json": {
              "type": "string"
            }
          },
          "metadata": {},
          "execution_count": 130
        }
      ],
      "metadata": {
        "id": "7dbd7432",
        "colab": {
          "base_uri": "https://localhost:8080/",
          "height": 35
        },
        "outputId": "c294c7f7-542e-4095-ad4b-5440f42cc8d4"
      },
      "id": "7dbd7432"
    },
    {
      "cell_type": "markdown",
      "source": [
        "Se o que você precisa é pegar um trecho com alguns itens da sua lista, você só precisa usar dois pontos e definir o intervalo em questão.\n",
        "\n",
        "Se quer acessar os primeiros três itens, por exemplo, é só fazer assim:"
      ],
      "metadata": {
        "id": "a905075b"
      },
      "id": "a905075b"
    },
    {
      "cell_type": "code",
      "execution_count": null,
      "source": [
        "ingredientes_para_o_molho[0:3]"
      ],
      "outputs": [
        {
          "output_type": "execute_result",
          "data": {
            "text/plain": [
              "['tomate', 'cebola', 'pimenta']"
            ]
          },
          "metadata": {},
          "execution_count": 131
        }
      ],
      "metadata": {
        "id": "a8e48c2a",
        "colab": {
          "base_uri": "https://localhost:8080/"
        },
        "outputId": "c5af91da-d457-4abb-bc3d-5c8a2bdfb849"
      },
      "id": "a8e48c2a"
    },
    {
      "cell_type": "markdown",
      "source": [
        "Você poderia ter deixado de fora o 0 do começo - quando você não informa o primeiro número, o Python por padrão define para \"o primeiro item na lista.\" Da mesma forma, se você deixar de fora o último número, o padrão definido pelo Python é \"o último item da lista.\""
      ],
      "metadata": {
        "id": "a2f2eb3e"
      },
      "id": "a2f2eb3e"
    },
    {
      "cell_type": "code",
      "execution_count": null,
      "source": [
        "ingredientes_para_o_molho[:3]"
      ],
      "outputs": [
        {
          "output_type": "execute_result",
          "data": {
            "text/plain": [
              "['tomate', 'cebola', 'pimenta']"
            ]
          },
          "metadata": {},
          "execution_count": 132
        }
      ],
      "metadata": {
        "id": "20b53847",
        "colab": {
          "base_uri": "https://localhost:8080/"
        },
        "outputId": "ea1cd989-ff81-4867-b629-b42e9fbbfc4c"
      },
      "id": "20b53847"
    },
    {
      "cell_type": "markdown",
      "source": [
        "Observe que essa fatia nos devolve os itens 0, 1 e 2. O item 3 no nosso conjunto é o primeiro item que nós _não_ queremos. Isso pode parecer confuso em um primeiro momento. Vamos observar mais alguns exemplos:"
      ],
      "metadata": {
        "id": "ab641bcd"
      },
      "id": "ab641bcd"
    },
    {
      "cell_type": "code",
      "execution_count": null,
      "source": [
        "# tudo na lista, exceto o item de número 0, ou seja, o primeiro\n",
        "ingredientes_para_o_molho[1:]"
      ],
      "outputs": [
        {
          "output_type": "execute_result",
          "data": {
            "text/plain": [
              "['cebola', 'pimenta', 'limão', 'coentro']"
            ]
          },
          "metadata": {},
          "execution_count": 133
        }
      ],
      "metadata": {
        "id": "84be4755",
        "colab": {
          "base_uri": "https://localhost:8080/"
        },
        "outputId": "0679492c-4138-4fde-9fc7-943d1507c1f0"
      },
      "id": "84be4755"
    },
    {
      "cell_type": "code",
      "execution_count": null,
      "source": [
        "# o segundo, terceiro e quarto itens\n",
        "ingredientes_para_o_molho[1:4]"
      ],
      "outputs": [
        {
          "output_type": "execute_result",
          "data": {
            "text/plain": [
              "['cebola', 'pimenta', 'limão']"
            ]
          },
          "metadata": {},
          "execution_count": 134
        }
      ],
      "metadata": {
        "id": "bf9966f9",
        "colab": {
          "base_uri": "https://localhost:8080/"
        },
        "outputId": "ffd4d6eb-0921-458d-f3c9-04035f89d5fc"
      },
      "id": "bf9966f9"
    },
    {
      "cell_type": "code",
      "execution_count": null,
      "source": [
        "# os dois últimos itens\n",
        "ingredientes_para_o_molho[-2:]"
      ],
      "outputs": [
        {
          "output_type": "execute_result",
          "data": {
            "text/plain": [
              "['limão', 'coentro']"
            ]
          },
          "metadata": {},
          "execution_count": 135
        }
      ],
      "metadata": {
        "id": "85e36c79",
        "colab": {
          "base_uri": "https://localhost:8080/"
        },
        "outputId": "85f21ca5-f8fa-463e-a075-6407c160734f"
      },
      "id": "85e36c79"
    },
    {
      "cell_type": "markdown",
      "source": [
        "Para saber quantos itens uma lista tem é só usar a funcão `len()`"
      ],
      "metadata": {
        "id": "ede9c332"
      },
      "id": "ede9c332"
    },
    {
      "cell_type": "code",
      "execution_count": null,
      "source": [
        "len(ingredientes_para_o_molho)"
      ],
      "outputs": [
        {
          "output_type": "execute_result",
          "data": {
            "text/plain": [
              "5"
            ]
          },
          "metadata": {},
          "execution_count": 77
        }
      ],
      "metadata": {
        "id": "8bc4b704",
        "colab": {
          "base_uri": "https://localhost:8080/"
        },
        "outputId": "aab08ebc-4623-4347-f336-4cb3e8e5c97b"
      },
      "id": "8bc4b704"
    },
    {
      "cell_type": "markdown",
      "source": [
        "Para adicionar itens a uma lista, use o método `append()`:"
      ],
      "metadata": {
        "id": "5e0af166"
      },
      "id": "5e0af166"
    },
    {
      "cell_type": "code",
      "execution_count": null,
      "source": [
        "ingredientes_para_o_molho"
      ],
      "outputs": [
        {
          "output_type": "execute_result",
          "data": {
            "text/plain": [
              "['tomate', 'cebola', 'pimenta', 'limão', 'coentro']"
            ]
          },
          "metadata": {},
          "execution_count": 78
        }
      ],
      "metadata": {
        "id": "1639a921",
        "colab": {
          "base_uri": "https://localhost:8080/"
        },
        "outputId": "32f4661a-dac7-4159-f9d3-e9146ca40c31"
      },
      "id": "1639a921"
    },
    {
      "cell_type": "code",
      "execution_count": null,
      "source": [
        "ingredientes_para_o_molho.append(\"areia\")"
      ],
      "outputs": [],
      "metadata": {
        "id": "6590a531"
      },
      "id": "6590a531"
    },
    {
      "cell_type": "code",
      "execution_count": null,
      "source": [
        "ingredientes_para_o_molho"
      ],
      "outputs": [
        {
          "output_type": "execute_result",
          "data": {
            "text/plain": [
              "['tomate', 'cebola', 'pimenta', 'limão', 'coentro', 'areia']"
            ]
          },
          "metadata": {},
          "execution_count": 80
        }
      ],
      "metadata": {
        "id": "19d2ceee",
        "colab": {
          "base_uri": "https://localhost:8080/"
        },
        "outputId": "e0d76c99-ad80-4fb9-f670-d262594fbaa0"
      },
      "id": "19d2ceee"
    },
    {
      "cell_type": "markdown",
      "source": [
        "O único problema aqui é que nosso molho ficou meio nojento.\n",
        "\n",
        "Para remover um item de uma lista, use o método `pop()`. Se você não informar o índice númerico do item específico que você quer remover, o valor padrão do método é o último item da lista."
      ],
      "metadata": {
        "id": "98bfec10"
      },
      "id": "98bfec10"
    },
    {
      "cell_type": "code",
      "execution_count": null,
      "source": [
        "ingredientes_para_o_molho.pop()"
      ],
      "outputs": [
        {
          "output_type": "execute_result",
          "data": {
            "text/plain": [
              "'areia'"
            ],
            "application/vnd.google.colaboratory.intrinsic+json": {
              "type": "string"
            }
          },
          "metadata": {},
          "execution_count": 81
        }
      ],
      "metadata": {
        "id": "7423f2cc",
        "colab": {
          "base_uri": "https://localhost:8080/",
          "height": 35
        },
        "outputId": "b3f9710b-1507-4b60-ab77-81d35f916ee0"
      },
      "id": "7423f2cc"
    },
    {
      "cell_type": "code",
      "execution_count": null,
      "source": [
        "ingredientes_para_o_molho"
      ],
      "outputs": [
        {
          "output_type": "execute_result",
          "data": {
            "text/plain": [
              "['tomate', 'cebola', 'pimenta', 'limão', 'coentro']"
            ]
          },
          "metadata": {},
          "execution_count": 82
        }
      ],
      "metadata": {
        "id": "2c88e9ea",
        "colab": {
          "base_uri": "https://localhost:8080/"
        },
        "outputId": "c6a86a20-78f1-499f-cdb3-7c235759d418"
      },
      "id": "2c88e9ea"
    },
    {
      "cell_type": "markdown",
      "source": [
        "Você pode usar as expressões [`in` e `not in`](https://docs.python.org/pt-br/3/reference/expressions.html#membership-test-operations) para verificar se um item pertence àquela lista (e irá lhe retornar um booleano):"
      ],
      "metadata": {
        "id": "44d04901"
      },
      "id": "44d04901"
    },
    {
      "cell_type": "code",
      "execution_count": null,
      "source": [
        "\"limão\" in ingredientes_para_o_molho"
      ],
      "outputs": [
        {
          "output_type": "execute_result",
          "data": {
            "text/plain": [
              "True"
            ]
          },
          "metadata": {},
          "execution_count": 83
        }
      ],
      "metadata": {
        "id": "22a25cfd",
        "colab": {
          "base_uri": "https://localhost:8080/"
        },
        "outputId": "950f8f92-6af1-4be6-e5bf-a2ad0d788b47"
      },
      "id": "22a25cfd"
    },
    {
      "cell_type": "code",
      "execution_count": null,
      "source": [
        "\"coentro\" not in ingredientes_para_o_molho"
      ],
      "outputs": [
        {
          "output_type": "execute_result",
          "data": {
            "text/plain": [
              "False"
            ]
          },
          "metadata": {},
          "execution_count": 84
        }
      ],
      "metadata": {
        "id": "a6011786",
        "colab": {
          "base_uri": "https://localhost:8080/"
        },
        "outputId": "f058b3b7-b4d4-4364-955d-d70c638b9d12"
      },
      "id": "a6011786"
    },
    {
      "cell_type": "markdown",
      "source": [
        "###Estrutura de Sets\n",
        "\n",
        "Set é uma coleção de itens que não tem ordenação definida e que não pode conter elementos duplicados. Nessas estruturas são permitidas apenas as ações de adição e removação. São comumente usados para operações de conjuntos tais como união, interseção e diferença simétrica."
      ],
      "metadata": {
        "id": "_1Ukv9Uwn7y3"
      },
      "id": "_1Ukv9Uwn7y3"
    },
    {
      "cell_type": "code",
      "source": [
        "meu_set = {1, 2, 3, 4, 1}\n",
        "meu_set_2 = set([1, 2, 8, 9, 10])\n",
        "\n",
        "# União\n",
        "print(\"União\")\n",
        "print(meu_set | meu_set_2)\n",
        "print(meu_set.union(meu_set_2))\n",
        "\n",
        "# Interseção\n",
        "print(\"Interseção\")\n",
        "print(meu_set & meu_set_2)\n",
        "print(meu_set.intersection(meu_set_2))\n",
        "\n",
        "# Diferença\n",
        "print(\"Diferença\")\n",
        "print(meu_set - meu_set_2)\n",
        "print(meu_set.difference(meu_set_2))\n",
        "\n",
        "# Diferença Simétrica\n",
        "print(\"Diferença Simétrica\")\n",
        "print(meu_set ^ meu_set_2)\n",
        "print(meu_set.symmetric_difference(meu_set_2))"
      ],
      "metadata": {
        "id": "bkJvok4ipV96"
      },
      "id": "bkJvok4ipV96",
      "execution_count": null,
      "outputs": []
    },
    {
      "cell_type": "markdown",
      "source": [
        "###Estrutura de Tuplas\n",
        "\n",
        "Tupla é uma estrutura similar lista, porém elementos inseridos em uma tupla não podem ser alterados. Em geral são usadas para armazenar estruturas de dados heterogênas.\n",
        "\n"
      ],
      "metadata": {
        "id": "AYX7PqjeoPY9"
      },
      "id": "AYX7PqjeoPY9"
    },
    {
      "cell_type": "code",
      "source": [
        "nome_da_tupla = (1, 2, 3) #tupla de inteiros\n",
        "nome_da_tupla = (1, \"olá\", 1.5) #tupla heterogênea\n",
        "\n",
        "nome_da_tupla1 = (1, 2, 3) #tupla de inteiros\n",
        "\n",
        "print(nome_da_tupla1.index(3))\n",
        "\n",
        "\n",
        "nome_da_tupla1 = (1, 2, 3) #tupla de inteiros\n",
        "\n",
        "print(2 in nome_da_tupla1)\n",
        "print(22 in nome_da_tupla1)"
      ],
      "metadata": {
        "id": "kNj0WWylp1MV"
      },
      "id": "kNj0WWylp1MV",
      "execution_count": null,
      "outputs": []
    },
    {
      "cell_type": "markdown",
      "source": [
        "### Estrutura de Dicionários\n",
        "\n",
        "Dicionário armazena conjuntos de itens onde os elementos, além de um valor, possuem uma chave atrelada a ele, uma espécie de identificador. Assim, é bastante utilizado quando queremos armazenar dados de forma organizada e que possuem identificação única.\n",
        "\n"
      ],
      "metadata": {
        "id": "ea0514be"
      },
      "id": "ea0514be"
    },
    {
      "cell_type": "markdown",
      "source": [
        "Um dicionário é um conjunto de pares de chave/valor, separados por vírgula, dentro de chaves: `{}`. Vamos fazer uma receita inteira de molho:"
      ],
      "metadata": {
        "id": "rGOF-5d6OdEV"
      },
      "id": "rGOF-5d6OdEV"
    },
    {
      "cell_type": "code",
      "execution_count": null,
      "source": [
        "molho = {\n",
        "    \"ingredientes\": ingredientes_para_o_molho,\n",
        "    \"instrucoes\": \"Corte todos os ingredientes e cozinhe eles por um tempinho.\",\n",
        "    \"porcoes\": 12\n",
        "}"
      ],
      "outputs": [],
      "metadata": {
        "id": "70c8eb17"
      },
      "id": "70c8eb17"
    },
    {
      "cell_type": "markdown",
      "source": [
        "Para retornar um valor de um dicionário, você deve chamar o nome da sua respectiva chave dentro de colchetes `[]` imediatamente após o nome da variável do dicionário em questão."
      ],
      "metadata": {
        "id": "7a3a1493"
      },
      "id": "7a3a1493"
    },
    {
      "cell_type": "code",
      "execution_count": null,
      "source": [
        "molho[\"porcoes\"]"
      ],
      "outputs": [
        {
          "output_type": "execute_result",
          "data": {
            "text/plain": [
              "12"
            ]
          },
          "metadata": {},
          "execution_count": 87
        }
      ],
      "metadata": {
        "id": "31a2135d",
        "colab": {
          "base_uri": "https://localhost:8080/"
        },
        "outputId": "2f23f4df-7664-475c-c080-00421556c026"
      },
      "id": "31a2135d"
    },
    {
      "cell_type": "code",
      "execution_count": null,
      "source": [
        "molho['ingredientes']"
      ],
      "outputs": [
        {
          "output_type": "execute_result",
          "data": {
            "text/plain": [
              "['tomate', 'cebola', 'pimenta', 'limão', 'coentro']"
            ]
          },
          "metadata": {},
          "execution_count": 88
        }
      ],
      "metadata": {
        "id": "eeea99f0",
        "colab": {
          "base_uri": "https://localhost:8080/"
        },
        "outputId": "c4645495-14e4-445d-e03c-1f63b6b353e8"
      },
      "id": "eeea99f0"
    },
    {
      "cell_type": "markdown",
      "source": [
        "Podemos usar também a função `get()` passando a chave como parâmetro."
      ],
      "metadata": {
        "id": "y_vJB8uHdT6K"
      },
      "id": "y_vJB8uHdT6K"
    },
    {
      "cell_type": "code",
      "source": [
        "molho.get(\"porcoes\")"
      ],
      "metadata": {
        "colab": {
          "base_uri": "https://localhost:8080/"
        },
        "id": "oi5arRZSc3sw",
        "outputId": "4ef20c45-e239-433c-bd98-8fe66fe41b43"
      },
      "id": "oi5arRZSc3sw",
      "execution_count": null,
      "outputs": [
        {
          "output_type": "execute_result",
          "data": {
            "text/plain": [
              "12"
            ]
          },
          "metadata": {},
          "execution_count": 89
        }
      ]
    },
    {
      "cell_type": "markdown",
      "source": [
        "Para adicionar um novo conjunto de chave/valor a um dicionário, atribua uma nova chave dentro de colchetes ao dicionário desejado e defina o valor logo após o `=`:"
      ],
      "metadata": {
        "id": "5b4713da"
      },
      "id": "5b4713da"
    },
    {
      "cell_type": "code",
      "execution_count": null,
      "source": [
        "molho['esta_uma_delicia'] = True"
      ],
      "outputs": [],
      "metadata": {
        "id": "421d3adb"
      },
      "id": "421d3adb"
    },
    {
      "cell_type": "code",
      "execution_count": null,
      "source": [
        "molho"
      ],
      "outputs": [
        {
          "output_type": "execute_result",
          "data": {
            "text/plain": [
              "{'ingredientes': ['tomate', 'cebola', 'pimenta', 'limão', 'coentro'],\n",
              " 'instrucoes': 'Corte todos os ingredientes e cozinhe eles por um tempinho.',\n",
              " 'porcoes': 12,\n",
              " 'esta_uma_delicia': True}"
            ]
          },
          "metadata": {},
          "execution_count": 91
        }
      ],
      "metadata": {
        "id": "733399a2",
        "colab": {
          "base_uri": "https://localhost:8080/"
        },
        "outputId": "22ac4ea4-df13-46eb-f5c3-1faaf394a882"
      },
      "id": "733399a2"
    },
    {
      "cell_type": "markdown",
      "source": [
        "Para excluir um par chave/valor de um dicionário, utilize o comando `del` antes o nome do dicionário acompanhado da chave específica:"
      ],
      "metadata": {
        "id": "f8bd71d8"
      },
      "id": "f8bd71d8"
    },
    {
      "cell_type": "code",
      "execution_count": null,
      "source": [
        "del molho['esta_uma_delicia']"
      ],
      "outputs": [],
      "metadata": {
        "id": "0f84017e"
      },
      "id": "0f84017e"
    },
    {
      "cell_type": "code",
      "execution_count": null,
      "source": [
        "molho"
      ],
      "outputs": [
        {
          "output_type": "execute_result",
          "data": {
            "text/plain": [
              "{'ingredientes': ['tomate', 'cebola', 'pimenta', 'limão', 'coentro'],\n",
              " 'instrucoes': 'Corte todos os ingredientes e cozinhe eles por um tempinho.',\n",
              " 'porcoes': 12}"
            ]
          },
          "metadata": {},
          "execution_count": 93
        }
      ],
      "metadata": {
        "id": "43e69c4a",
        "colab": {
          "base_uri": "https://localhost:8080/"
        },
        "outputId": "e439f5e8-7033-4543-bfcf-0b7e56c7a4ad"
      },
      "id": "43e69c4a"
    },
    {
      "cell_type": "markdown",
      "source": [
        "\n",
        "# 📚&nbsp;&nbsp;REFERÊNCIAS UTILIZADAS"
      ],
      "metadata": {
        "id": "az_Jgd2MXQTg"
      },
      "id": "az_Jgd2MXQTg"
    },
    {
      "cell_type": "markdown",
      "source": [
        "Este notebook foi estruturado pela Prof. Dra. Aline de Campos. A autora criou a estruturação de tópicos e organização didática, fazendo uso de alguns trechos de outros notebooks disponíveis publicamente pela comunidade Python, além da criação de conteúdos novos como colaboração e aprofundamento aos conteúdos reutilizados.\n",
        "\n",
        "**Referências utilizadas:**\n",
        "\n",
        "- Trechos de [Python syntax cheat sheet](https://github.com/ireapps/teaching-guide-intro-to-pandas/blob/master/Python%20syntax%20cheat%20sheet.ipynb) revisado e expandida pela [Escola de Dados](https://escoladedados.org/).\n",
        "- Trechos de Introdução a Python do projeto [Maria vai com as Devs](https://github.com/mariavaicomasdevs).\n",
        "- Trechos de notebooks do workshop \"Python: Intro to data analysis using pandas\" realizado IRE/NICAR de 2019 traduzidos por Anicely Santos e Kaio Cunha e disponibilizado pela [Escola de Dados](https://escoladedados.org/)."
      ],
      "metadata": {
        "id": "aSc9Fzp6OVyF"
      },
      "id": "aSc9Fzp6OVyF"
    },
    {
      "cell_type": "markdown",
      "source": [
        "#🔎&nbsp;&nbsp;CONTEÚDOS COMPLEMENTARES"
      ],
      "metadata": {
        "id": "tSmJDWrpjOjt"
      },
      "id": "tSmJDWrpjOjt"
    },
    {
      "cell_type": "markdown",
      "source": [
        "###**Links interessantes**\n",
        "\n",
        "[🔗](https://wiki.python.org/moin/BeginnersGuide/Programmers) &nbsp;\n",
        "**Lista de Tutoriais Python:** um montão de tutoriais sobre a Linguagem de Programação Python\n",
        "\n",
        "[🔗](https://python.org.br/introducao/) &nbsp;\n",
        "**Python Brasil:** Python para quem está começando\n",
        "\n",
        "[🔗](https://www.codecademy.com/learn/learn-python-3) &nbsp;\n",
        "**Learn Python 3:** um curso rápido da Code Academy para revisar os principais recursos da Linguagem Python\n"
      ],
      "metadata": {
        "id": "6tm67Ut_jUZY"
      },
      "id": "6tm67Ut_jUZY"
    },
    {
      "cell_type": "markdown",
      "source": [
        "### **Livros para consulta**\n",
        "\n",
        "[🔗](https://www.google.com.br/books/edition/Introdu%C3%A7%C3%A3o_%C3%A0_programa%C3%A7%C3%A3o_com_Python/sECCDwAAQBAJ?hl=pt-BR&gbpv=1&printsec=frontcover) &nbsp;\n",
        "MENEZES, Nilo Ney Coutinho. **Introdução à programação com Python: Algoritmos e lógica de programação para iniciantes**. 3ª edição. Novatec Editora, 2016.\n",
        "\n",
        "\n",
        "[🔗](https://books.google.com.br/books?id=Oj5FDwAAQBAJ&printsec=frontcover&hl=pt-BR&source=gbs_ge_summary_r&cad=0#v=onepage&q&f=false) &nbsp;\n",
        "MCKINNEY, Wes. **Python Para Análise de Dados: tratamento de dados com Pandas, NumPy e IPython**. Novatec Editora, 2018.\n",
        "\n",
        "\n",
        "[🔗](https://books.google.com.br/books?id=XqbfCgAAQBAJ&printsec=frontcover&hl=pt-BR&source=gbs_ge_summary_r&cad=0#v=onepage&q&f=false) &nbsp;\n",
        "DOWNEY, Allen B. **Pense em Python: pense como um cientista da computação**. Novatec Editora, 2016."
      ],
      "metadata": {
        "id": "akXRsOo1oEpd"
      },
      "id": "akXRsOo1oEpd"
    }
  ]
}
